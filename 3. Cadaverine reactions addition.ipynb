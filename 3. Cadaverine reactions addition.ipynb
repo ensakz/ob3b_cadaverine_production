{
 "cells": [
  {
   "cell_type": "markdown",
   "metadata": {
    "hideCode": false,
    "hidePrompt": false
   },
   "source": [
    "# Load dependencies"
   ]
  },
  {
   "cell_type": "code",
   "execution_count": 81,
   "metadata": {
    "ExecuteTime": {
     "end_time": "2020-05-04T01:55:08.892293Z",
     "start_time": "2020-05-04T01:55:08.886505Z"
    },
    "hideCode": false,
    "hidePrompt": false
   },
   "outputs": [],
   "source": [
    "import cobra\n",
    "import libsbml\n",
    "import lxml\n",
    "\n",
    "models_directory = '/media/sf_Shared/Systems_biology/Metabolic_models/'\n",
    "OB3b_directory = '/media/sf_Shared/GEM_OB3b/'\n",
    "memote_directory = '/home/ensakz/Desktop/memote_m_trichosporium/'\n",
    "fastas_directory = '/media/sf_Shared/Systems_biology/Fastas_and_annotations/'\n",
    "inparanoid_directory = '/media/sf_Shared/Systems_biology/InParanoid_runs/'\n",
    "draft_gems_dir_8 = 'draft_gems/8.OB3b_draft_gem_during_pathway_manual_curation/'\n",
    "gem_confirmation = 'gem_confirmation/'"
   ]
  },
  {
   "cell_type": "code",
   "execution_count": 82,
   "metadata": {
    "ExecuteTime": {
     "end_time": "2020-05-04T01:55:10.938590Z",
     "start_time": "2020-05-04T01:55:09.352736Z"
    },
    "hideCode": false,
    "hidePrompt": false
   },
   "outputs": [],
   "source": [
    "iMsOB3b = cobra.io.load_json_model(models_directory + \"iMsOB3b.json\")"
   ]
  },
  {
   "cell_type": "code",
   "execution_count": 83,
   "metadata": {
    "ExecuteTime": {
     "end_time": "2020-05-04T01:55:12.213566Z",
     "start_time": "2020-05-04T01:55:11.005348Z"
    }
   },
   "outputs": [],
   "source": [
    "iMcBath = cobra.io.load_json_model(models_directory + \"iMcBath.json\")"
   ]
  },
  {
   "cell_type": "code",
   "execution_count": 84,
   "metadata": {
    "ExecuteTime": {
     "end_time": "2020-05-04T01:55:53.914244Z",
     "start_time": "2020-05-04T01:55:12.280920Z"
    }
   },
   "outputs": [],
   "source": [
    "universal = cobra.io.load_json_model(models_directory + \"universal_model.json\")"
   ]
  },
  {
   "cell_type": "markdown",
   "metadata": {},
   "source": [
    "# Add heterologous reactions for cadaverine production\n",
    "## Add Pyruvate carboxylase (pyc) to iMsOB3b:"
   ]
  },
  {
   "cell_type": "code",
   "execution_count": 85,
   "metadata": {
    "ExecuteTime": {
     "end_time": "2020-05-04T01:55:54.021522Z",
     "start_time": "2020-05-04T01:55:53.991974Z"
    }
   },
   "outputs": [],
   "source": [
    "iMsOB3b.add_reaction(iMcBath.reactions.PC)"
   ]
  },
  {
   "cell_type": "code",
   "execution_count": 86,
   "metadata": {
    "ExecuteTime": {
     "end_time": "2020-05-04T01:55:54.125077Z",
     "start_time": "2020-05-04T01:55:54.113290Z"
    }
   },
   "outputs": [
    {
     "data": {
      "text/html": [
       "\n",
       "        <table>\n",
       "            <tr>\n",
       "                <td><strong>Reaction identifier</strong></td><td>PC</td>\n",
       "            </tr><tr>\n",
       "                <td><strong>Name</strong></td><td>Pyruvate carboxylase</td>\n",
       "            </tr><tr>\n",
       "                <td><strong>Memory address</strong></td>\n",
       "                <td>0x07f46e5faa5f8</td>\n",
       "            </tr><tr>\n",
       "                <td><strong>Stoichiometry</strong></td>\n",
       "                <td>\n",
       "                    <p style='text-align:right'>atp_c + hco3_c + pyr_c --> adp_c + h_c + oaa_c + pi_c</p>\n",
       "                    <p style='text-align:right'>ATP + HCO3_ + pyruvate --> ADP + H_ + oxaloacetate + phosphate</p>\n",
       "                </td>\n",
       "            </tr><tr>\n",
       "                <td><strong>GPR</strong></td><td>MCA2479 or MCA2480 or MCA2481</td>\n",
       "            </tr><tr>\n",
       "                <td><strong>Lower bound</strong></td><td>0.0</td>\n",
       "            </tr><tr>\n",
       "                <td><strong>Upper bound</strong></td><td>1000.0</td>\n",
       "            </tr>\n",
       "        </table>\n",
       "        "
      ],
      "text/plain": [
       "<Reaction PC at 0x7f46e5faa5f8>"
      ]
     },
     "execution_count": 86,
     "metadata": {},
     "output_type": "execute_result"
    }
   ],
   "source": [
    "iMsOB3b.reactions.PC"
   ]
  },
  {
   "cell_type": "markdown",
   "metadata": {},
   "source": [
    "## Add lysine decarboxylase (ldcC/cadA) to iMsOB3b:"
   ]
  },
  {
   "cell_type": "code",
   "execution_count": 87,
   "metadata": {
    "ExecuteTime": {
     "end_time": "2020-05-04T01:56:09.295063Z",
     "start_time": "2020-05-04T01:56:09.275488Z"
    }
   },
   "outputs": [],
   "source": [
    "iMsOB3b.add_reaction(universal.reactions.LYSDC)"
   ]
  },
  {
   "cell_type": "code",
   "execution_count": 88,
   "metadata": {
    "ExecuteTime": {
     "end_time": "2020-05-04T01:56:09.878919Z",
     "start_time": "2020-05-04T01:56:09.868388Z"
    }
   },
   "outputs": [
    {
     "data": {
      "text/html": [
       "\n",
       "        <table>\n",
       "            <tr>\n",
       "                <td><strong>Reaction identifier</strong></td><td>LYSDC</td>\n",
       "            </tr><tr>\n",
       "                <td><strong>Name</strong></td><td>Lysine decarboxylase</td>\n",
       "            </tr><tr>\n",
       "                <td><strong>Memory address</strong></td>\n",
       "                <td>0x07f46ca66f710</td>\n",
       "            </tr><tr>\n",
       "                <td><strong>Stoichiometry</strong></td>\n",
       "                <td>\n",
       "                    <p style='text-align:right'>h_c + lys__L_c --> 15dap_c + co2_c</p>\n",
       "                    <p style='text-align:right'>H_ + L-Lysine --> 1,5-Diaminopentane + CO2</p>\n",
       "                </td>\n",
       "            </tr><tr>\n",
       "                <td><strong>GPR</strong></td><td></td>\n",
       "            </tr><tr>\n",
       "                <td><strong>Lower bound</strong></td><td>0.0</td>\n",
       "            </tr><tr>\n",
       "                <td><strong>Upper bound</strong></td><td>1000.0</td>\n",
       "            </tr>\n",
       "        </table>\n",
       "        "
      ],
      "text/plain": [
       "<Reaction LYSDC at 0x7f46ca66f710>"
      ]
     },
     "execution_count": 88,
     "metadata": {},
     "output_type": "execute_result"
    }
   ],
   "source": [
    "iMsOB3b.reactions.LYSDC"
   ]
  },
  {
   "cell_type": "code",
   "execution_count": 89,
   "metadata": {
    "ExecuteTime": {
     "end_time": "2020-05-04T01:56:11.655144Z",
     "start_time": "2020-05-04T01:56:11.600085Z"
    }
   },
   "outputs": [],
   "source": [
    "iMsOB3b.reactions.LYSDC.reaction = \"h_c + lys_L_c --> 15dap_c + co2_c\""
   ]
  },
  {
   "cell_type": "markdown",
   "metadata": {
    "ExecuteTime": {
     "end_time": "2020-04-20T13:37:03.932388Z",
     "start_time": "2020-04-20T13:37:03.927982Z"
    }
   },
   "source": [
    "## Add cadaverine-lysine antiporter protein to iMsOB3b:"
   ]
  },
  {
   "cell_type": "code",
   "execution_count": 90,
   "metadata": {
    "ExecuteTime": {
     "end_time": "2020-05-04T01:56:14.686821Z",
     "start_time": "2020-05-04T01:56:14.671668Z"
    }
   },
   "outputs": [],
   "source": [
    "iMsOB3b.add_reaction(universal.reactions.CADVt)"
   ]
  },
  {
   "cell_type": "code",
   "execution_count": 91,
   "metadata": {
    "ExecuteTime": {
     "end_time": "2020-05-04T01:56:15.032602Z",
     "start_time": "2020-05-04T01:56:15.021975Z"
    }
   },
   "outputs": [
    {
     "data": {
      "text/html": [
       "\n",
       "        <table>\n",
       "            <tr>\n",
       "                <td><strong>Reaction identifier</strong></td><td>CADVt</td>\n",
       "            </tr><tr>\n",
       "                <td><strong>Name</strong></td><td>Lysine/Cadaverine antiporter</td>\n",
       "            </tr><tr>\n",
       "                <td><strong>Memory address</strong></td>\n",
       "                <td>0x07f46d549f160</td>\n",
       "            </tr><tr>\n",
       "                <td><strong>Stoichiometry</strong></td>\n",
       "                <td>\n",
       "                    <p style='text-align:right'>15dap_c + h_e + lys__L_e --> 15dap_e + h_c + lys__L_c</p>\n",
       "                    <p style='text-align:right'>1,5-Diaminopentane + H_ + L-Lysine --> 1,5-Diaminopentane + H_ + L-Lysine</p>\n",
       "                </td>\n",
       "            </tr><tr>\n",
       "                <td><strong>GPR</strong></td><td></td>\n",
       "            </tr><tr>\n",
       "                <td><strong>Lower bound</strong></td><td>0.0</td>\n",
       "            </tr><tr>\n",
       "                <td><strong>Upper bound</strong></td><td>1000.0</td>\n",
       "            </tr>\n",
       "        </table>\n",
       "        "
      ],
      "text/plain": [
       "<Reaction CADVt at 0x7f46d549f160>"
      ]
     },
     "execution_count": 91,
     "metadata": {},
     "output_type": "execute_result"
    }
   ],
   "source": [
    "iMsOB3b.reactions.CADVt"
   ]
  },
  {
   "cell_type": "code",
   "execution_count": 92,
   "metadata": {
    "ExecuteTime": {
     "end_time": "2020-05-04T01:56:17.145770Z",
     "start_time": "2020-05-04T01:56:17.103032Z"
    }
   },
   "outputs": [
    {
     "name": "stdout",
     "output_type": "stream",
     "text": [
      "unknown metabolite 'lys_L_e' created\n"
     ]
    }
   ],
   "source": [
    "iMsOB3b.reactions.CADVt.reaction = \"15dap_c + h_e + lys_L_e --> 15dap_e + h_c + lys_L_c\""
   ]
  },
  {
   "cell_type": "markdown",
   "metadata": {},
   "source": [
    "Check whether iMsOB3b hsa lys_L_e:"
   ]
  },
  {
   "cell_type": "code",
   "execution_count": 93,
   "metadata": {
    "ExecuteTime": {
     "end_time": "2020-05-04T01:56:19.326607Z",
     "start_time": "2020-05-04T01:56:19.320852Z"
    }
   },
   "outputs": [
    {
     "data": {
      "text/html": [
       "\n",
       "        <table>\n",
       "            <tr>\n",
       "                <td><strong>Metabolite identifier</strong></td><td>lys_L_e</td>\n",
       "            </tr><tr>\n",
       "                <td><strong>Name</strong></td><td></td>\n",
       "            </tr><tr>\n",
       "                <td><strong>Memory address</strong></td>\n",
       "                <td>0x07f46e26ceb70</td>\n",
       "            </tr><tr>\n",
       "                <td><strong>Formula</strong></td><td>None</td>\n",
       "            </tr><tr>\n",
       "                <td><strong>Compartment</strong></td><td>None</td>\n",
       "            </tr><tr>\n",
       "                <td><strong>In 1 reaction(s)</strong></td><td>\n",
       "                    CADVt</td>\n",
       "            </tr>\n",
       "        </table>"
      ],
      "text/plain": [
       "<Metabolite lys_L_e at 0x7f46e26ceb70>"
      ]
     },
     "execution_count": 93,
     "metadata": {},
     "output_type": "execute_result"
    }
   ],
   "source": [
    "iMsOB3b.metabolites.lys_L_e"
   ]
  },
  {
   "cell_type": "markdown",
   "metadata": {},
   "source": [
    "## Add lysine demand reaction\n",
    "This is required due to cadaverine-lysine antiporter protein reaction, i.e. iMsOB3b does not have external lysine metabolite.\n",
    "<br>**Note:** I had a problem with using model.summary() function (I got error) when I added reaction with \"EX_lys_L_e\" to iMsOB3b model. Therefore, I renamed lysine reaction to \"DM_lys_L_e\" to get rid of the error."
   ]
  },
  {
   "cell_type": "code",
   "execution_count": 95,
   "metadata": {
    "ExecuteTime": {
     "end_time": "2020-05-04T01:56:31.210969Z",
     "start_time": "2020-05-04T01:56:31.202421Z"
    }
   },
   "outputs": [],
   "source": [
    "## Exchange reaction for 4hbD - EX_4hbD\n",
    "\n",
    "from cobra import Model, Reaction, Metabolite\n",
    "# Best practise: SBML compliant IDs\n",
    "\n",
    "reaction = Reaction('DM_lys_L_e')\n",
    "reaction.name = 'Demand lysine'\n",
    "reaction.lower_bound = 0.  # This is the default\n",
    "reaction.upper_bound = 1000.  # This is the default"
   ]
  },
  {
   "cell_type": "code",
   "execution_count": 96,
   "metadata": {
    "ExecuteTime": {
     "end_time": "2020-05-04T01:56:31.438559Z",
     "start_time": "2020-05-04T01:56:31.433965Z"
    }
   },
   "outputs": [],
   "source": [
    "iMsOB3b.add_reaction(reaction)"
   ]
  },
  {
   "cell_type": "code",
   "execution_count": 97,
   "metadata": {
    "ExecuteTime": {
     "end_time": "2020-05-04T01:56:31.696580Z",
     "start_time": "2020-05-04T01:56:31.692965Z"
    }
   },
   "outputs": [],
   "source": [
    "iMsOB3b.reactions.get_by_id('DM_lys_L_e').reaction = 'lys_L_e -->'"
   ]
  },
  {
   "cell_type": "code",
   "execution_count": 98,
   "metadata": {
    "ExecuteTime": {
     "end_time": "2020-05-04T01:56:31.936192Z",
     "start_time": "2020-05-04T01:56:31.932694Z"
    }
   },
   "outputs": [],
   "source": [
    "iMsOB3b.reactions.get_by_id('DM_lys_L_e').reaction = '--> lys_L_e'"
   ]
  },
  {
   "cell_type": "code",
   "execution_count": 99,
   "metadata": {
    "ExecuteTime": {
     "end_time": "2020-05-04T01:56:32.154774Z",
     "start_time": "2020-05-04T01:56:32.151671Z"
    }
   },
   "outputs": [],
   "source": [
    "iMsOB3b.metabolites.lys_L_e.compartment = \"e\""
   ]
  },
  {
   "cell_type": "markdown",
   "metadata": {},
   "source": [
    "## Add cadaverine exchange reaction:"
   ]
  },
  {
   "cell_type": "code",
   "execution_count": 104,
   "metadata": {
    "ExecuteTime": {
     "end_time": "2020-05-04T01:57:03.791400Z",
     "start_time": "2020-05-04T01:57:03.786799Z"
    }
   },
   "outputs": [],
   "source": [
    "iMsOB3b.add_reaction(universal.reactions.EX_15dap_e)"
   ]
  },
  {
   "cell_type": "markdown",
   "metadata": {},
   "source": [
    "Fix reaction annotation in iMsOB3b:"
   ]
  },
  {
   "cell_type": "code",
   "execution_count": 106,
   "metadata": {
    "ExecuteTime": {
     "end_time": "2020-05-04T01:57:22.023023Z",
     "start_time": "2020-05-04T01:57:22.009854Z"
    }
   },
   "outputs": [],
   "source": [
    "for reaction in iMsOB3b.reactions:\n",
    "    reaction.annotation = {}"
   ]
  },
  {
   "cell_type": "code",
   "execution_count": 107,
   "metadata": {
    "ExecuteTime": {
     "end_time": "2020-05-04T01:57:27.509396Z",
     "start_time": "2020-05-04T01:57:27.410025Z"
    }
   },
   "outputs": [
    {
     "name": "stdout",
     "output_type": "stream",
     "text": [
      "IN FLUXES             OUT FLUXES    OBJECTIVES\n",
      "--------------------  ------------  ----------------------\n",
      "o2_e       22.4       h2o_e  26.4   Biomass_Mext...  0.123\n",
      "ch4_e      14.9       co2_e   9.97\n",
      "h_e         5.36\n",
      "no3_e       1.2\n",
      "pi_e        0.0857\n",
      "k_e         0.0226\n",
      "so4_e       0.00774\n",
      "mg2_e       0.00101\n",
      "fe2_e       0.000984\n",
      "ca2_e       0.000607\n",
      "cl_e        0.000607\n",
      "na1_e       0.000499\n",
      "mobd_e      0.000432\n",
      "cu2_e       0.000405\n",
      "mn2_e       0.000405\n",
      "zn2_e       0.000405\n",
      "cobalt2_e   2.69e-05\n"
     ]
    }
   ],
   "source": [
    "iMsOB3b.summary()"
   ]
  },
  {
   "cell_type": "markdown",
   "metadata": {},
   "source": [
    "Save altered model before simulations:"
   ]
  },
  {
   "cell_type": "code",
   "execution_count": 108,
   "metadata": {
    "ExecuteTime": {
     "end_time": "2020-05-04T01:57:41.900595Z",
     "start_time": "2020-05-04T01:57:41.692839Z"
    }
   },
   "outputs": [],
   "source": [
    "cobra.io.save_json_model(iMsOB3b, \"/media/sf_Shared/Projects/Cadaverine_production/Models/\" + \n",
    "                         \"iMsOB3b_cadaverine.json\")"
   ]
  },
  {
   "cell_type": "code",
   "execution_count": null,
   "metadata": {},
   "outputs": [],
   "source": []
  }
 ],
 "metadata": {
  "kernelspec": {
   "display_name": "Python [conda env:GEM_py36]",
   "language": "python",
   "name": "conda-env-GEM_py36-py"
  },
  "language_info": {
   "codemirror_mode": {
    "name": "ipython",
    "version": 3
   },
   "file_extension": ".py",
   "mimetype": "text/x-python",
   "name": "python",
   "nbconvert_exporter": "python",
   "pygments_lexer": "ipython3",
   "version": "3.6.9"
  },
  "toc": {
   "base_numbering": 1,
   "nav_menu": {},
   "number_sections": true,
   "sideBar": true,
   "skip_h1_title": false,
   "title_cell": "Table of Contents",
   "title_sidebar": "Contents",
   "toc_cell": false,
   "toc_position": {
    "height": "calc(100% - 180px)",
    "left": "10px",
    "top": "150px",
    "width": "370.6px"
   },
   "toc_section_display": true,
   "toc_window_display": true
  },
  "varInspector": {
   "cols": {
    "lenName": 16,
    "lenType": 16,
    "lenVar": 40
   },
   "kernels_config": {
    "python": {
     "delete_cmd_postfix": "",
     "delete_cmd_prefix": "del ",
     "library": "var_list.py",
     "varRefreshCmd": "print(var_dic_list())"
    },
    "r": {
     "delete_cmd_postfix": ") ",
     "delete_cmd_prefix": "rm(",
     "library": "var_list.r",
     "varRefreshCmd": "cat(var_dic_list()) "
    }
   },
   "position": {
    "height": "406.85px",
    "left": "1549px",
    "right": "20px",
    "top": "118px",
    "width": "352px"
   },
   "types_to_exclude": [
    "module",
    "function",
    "builtin_function_or_method",
    "instance",
    "_Feature"
   ],
   "window_display": true
  }
 },
 "nbformat": 4,
 "nbformat_minor": 2
}
