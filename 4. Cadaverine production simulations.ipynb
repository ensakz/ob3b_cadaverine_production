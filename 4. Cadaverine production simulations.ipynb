{
 "cells": [
  {
   "cell_type": "markdown",
   "metadata": {
    "hideCode": false,
    "hidePrompt": false
   },
   "source": [
    "# Load dependencies"
   ]
  },
  {
   "cell_type": "code",
   "execution_count": 107,
   "metadata": {
    "ExecuteTime": {
     "end_time": "2020-05-04T13:41:06.922049Z",
     "start_time": "2020-05-04T13:41:06.918208Z"
    },
    "hideCode": false,
    "hidePrompt": false
   },
   "outputs": [],
   "source": [
    "import cobra\n",
    "import libsbml\n",
    "import lxml\n",
    "\n",
    "cadaverine_directory = '/media/sf_Shared/Projects/Cadaverine_production/'\n",
    "models_directory = '/media/sf_Shared/Systems_biology/Metabolic_models/'"
   ]
  },
  {
   "cell_type": "code",
   "execution_count": 108,
   "metadata": {
    "ExecuteTime": {
     "end_time": "2020-05-04T13:41:08.179880Z",
     "start_time": "2020-05-04T13:41:07.172230Z"
    },
    "hideCode": false,
    "hidePrompt": false
   },
   "outputs": [],
   "source": [
    "iMsOB3b = cobra.io.load_json_model(\"/media/sf_Shared/Projects/Cadaverine_production/Models/\" + \n",
    "                         \"iMsOB3b_cadaverine.json\")"
   ]
  },
  {
   "cell_type": "code",
   "execution_count": 109,
   "metadata": {
    "ExecuteTime": {
     "end_time": "2020-05-04T13:41:09.314633Z",
     "start_time": "2020-05-04T13:41:08.274636Z"
    }
   },
   "outputs": [],
   "source": [
    "iMsOB3b_original = cobra.io.load_json_model(models_directory + \"iMsOB3b.json\")"
   ]
  },
  {
   "cell_type": "code",
   "execution_count": 59,
   "metadata": {
    "ExecuteTime": {
     "end_time": "2020-05-04T05:14:49.155088Z",
     "start_time": "2020-05-04T05:14:49.149243Z"
    }
   },
   "outputs": [
    {
     "data": {
      "text/html": [
       "\n",
       "        <table>\n",
       "            <tr>\n",
       "                <td><strong>Metabolite identifier</strong></td><td>lys_L_e</td>\n",
       "            </tr><tr>\n",
       "                <td><strong>Name</strong></td><td></td>\n",
       "            </tr><tr>\n",
       "                <td><strong>Memory address</strong></td>\n",
       "                <td>0x07f7ca31b4ac8</td>\n",
       "            </tr><tr>\n",
       "                <td><strong>Formula</strong></td><td>None</td>\n",
       "            </tr><tr>\n",
       "                <td><strong>Compartment</strong></td><td>e</td>\n",
       "            </tr><tr>\n",
       "                <td><strong>In 2 reaction(s)</strong></td><td>\n",
       "                    CADVt, DM_lys_L_e</td>\n",
       "            </tr>\n",
       "        </table>"
      ],
      "text/plain": [
       "<Metabolite lys_L_e at 0x7f7ca31b4ac8>"
      ]
     },
     "execution_count": 59,
     "metadata": {},
     "output_type": "execute_result"
    }
   ],
   "source": [
    "iMsOB3b.metabolites.lys_L_e"
   ]
  },
  {
   "cell_type": "markdown",
   "metadata": {
    "ExecuteTime": {
     "end_time": "2020-04-20T15:43:22.060012Z",
     "start_time": "2020-04-20T15:43:22.049887Z"
    }
   },
   "source": [
    "# Check flux towards cadaverine with biomass as objective function: "
   ]
  },
  {
   "cell_type": "code",
   "execution_count": 60,
   "metadata": {
    "ExecuteTime": {
     "end_time": "2020-05-04T05:14:55.091933Z",
     "start_time": "2020-05-04T05:14:54.849890Z"
    }
   },
   "outputs": [
    {
     "name": "stdout",
     "output_type": "stream",
     "text": [
      "0.0\n",
      "0.031575378153261585\n",
      "0.0\n",
      "0.0\n"
     ]
    }
   ],
   "source": [
    "with iMsOB3b as model:\n",
    "    model.optimize()\n",
    "    print(model.reactions.PC.flux) #pyruvate carboxylase\n",
    "    print(model.reactions.DAPDC.flux) #diaminopimelate decarboxylase\n",
    "    print(model.reactions.LYSDC.flux) #lysine decarboxylase\n",
    "    print(model.reactions.CADVt.flux) #cadaverine antiporter protein"
   ]
  },
  {
   "cell_type": "markdown",
   "metadata": {},
   "source": [
    "# Maximum cadaverine flux\n",
    "Use cadaverine exchange reaction as an objective function"
   ]
  },
  {
   "cell_type": "code",
   "execution_count": 61,
   "metadata": {
    "ExecuteTime": {
     "end_time": "2020-05-04T05:14:59.841665Z",
     "start_time": "2020-05-04T05:14:59.448914Z"
    }
   },
   "outputs": [
    {
     "name": "stdout",
     "output_type": "stream",
     "text": [
      "IN FLUXES       OUT FLUXES    OBJECTIVES\n",
      "--------------  ------------  ---------------\n",
      "h_e    999      co2_e  1e+03  EX_15dap_e  999\n",
      "o2_e     1.75   h2o_e  1.75\n",
      "ch4_e    0.875\n",
      "PRODUCING REACTIONS -- L_lysine (lys_L_c)\n",
      "-----------------------------------------\n",
      "%       FLUX  RXN ID    REACTION\n",
      "----  ------  --------  --------------------------------------------------\n",
      "100%     999  CADVt     15dap_c + h_e + lys_L_e --> 15dap_e + h_c + lys...\n",
      "\n",
      "CONSUMING REACTIONS -- L_lysine (lys_L_c)\n",
      "-----------------------------------------\n",
      "%       FLUX  RXN ID    REACTION\n",
      "----  ------  --------  --------------------------------------------------\n",
      "100%     999  LYSDC     h_c + lys_L_c --> 15dap_c + co2_c\n"
     ]
    },
    {
     "name": "stderr",
     "output_type": "stream",
     "text": [
      "/home/ensakz/anaconda3/envs/GEM_py36/lib/python3.6/site-packages/ipykernel_launcher.py:6 \u001b[1;31mFutureWarning\u001b[0m: The signature of `Series.to_csv` was aligned to that of `DataFrame.to_csv`, and argument 'header' will change its default value from False to True: please pass an explicit value to suppress this warning.\n"
     ]
    }
   ],
   "source": [
    "with iMsOB3b as model:\n",
    "    model.objective = 'EX_15dap_e'\n",
    "    model.reactions.DM_lys_L_e.bounds = (0, 1000)\n",
    "    solution = cobra.flux_analysis.pfba(model).fluxes\n",
    "    solution.to_csv(cadaverine_directory + 'simulations/' + 'cadaverine_antiport_objective_function'\n",
    "                    + '.csv')\n",
    "    model.summary()\n",
    "    model.metabolites.lys_L_c.summary()"
   ]
  },
  {
   "cell_type": "markdown",
   "metadata": {},
   "source": [
    "**Note:** The problem with maximum flux towards cadaverine is that CADVt (cadaverine lysine antiporter) reaction depends on lys_L_e import creating futile cycle. The flux toward EX_15dap_e reaction (and thus cadaverine productivity) depends on amount of flux value for lys_L_e import."
   ]
  },
  {
   "cell_type": "markdown",
   "metadata": {},
   "source": [
    "## Add demand for DM_15dap_c"
   ]
  },
  {
   "cell_type": "code",
   "execution_count": 62,
   "metadata": {
    "ExecuteTime": {
     "end_time": "2020-05-04T05:15:01.663777Z",
     "start_time": "2020-05-04T05:15:01.657958Z"
    }
   },
   "outputs": [],
   "source": [
    "## Exchange reaction for 4hbD - EX_4hbD\n",
    "\n",
    "from cobra import Model, Reaction, Metabolite\n",
    "# Best practise: SBML compliant IDs\n",
    "\n",
    "reaction = Reaction('DM_15dap_c')\n",
    "reaction.name = 'Demand cadaverine'\n",
    "reaction.lower_bound = 0.  # This is the default\n",
    "reaction.upper_bound = 1000.  # This is the default"
   ]
  },
  {
   "cell_type": "code",
   "execution_count": 63,
   "metadata": {
    "ExecuteTime": {
     "end_time": "2020-05-04T05:15:02.577328Z",
     "start_time": "2020-05-04T05:15:02.570890Z"
    }
   },
   "outputs": [],
   "source": [
    "iMsOB3b.add_reaction(reaction)"
   ]
  },
  {
   "cell_type": "code",
   "execution_count": 64,
   "metadata": {
    "ExecuteTime": {
     "end_time": "2020-05-04T05:15:02.956736Z",
     "start_time": "2020-05-04T05:15:02.952727Z"
    }
   },
   "outputs": [],
   "source": [
    "iMsOB3b.reactions.get_by_id('DM_15dap_c').reaction = '15dap_c -->'"
   ]
  },
  {
   "cell_type": "code",
   "execution_count": 65,
   "metadata": {
    "ExecuteTime": {
     "end_time": "2020-05-04T05:15:04.427100Z",
     "start_time": "2020-05-04T05:15:04.070580Z"
    }
   },
   "outputs": [
    {
     "name": "stdout",
     "output_type": "stream",
     "text": [
      "IN FLUXES     OUT FLUXES    OBJECTIVES\n",
      "------------  ------------  -----------------\n",
      "o2_e   22.3   h2o_e  25.7   DM_15dap_c  0.677\n",
      "ch4_e  14.9   co2_e  11.5\n",
      "h_e     3.05\n",
      "no3_e   1.35\n",
      "PRODUCING REACTIONS -- 1,5-Diaminopentane (15dap_c)\n",
      "---------------------------------------------------\n",
      "%       FLUX  RXN ID      REACTION\n",
      "----  ------  ----------  ---------------------------------\n",
      "100%   0.677  LYSDC       h_c + lys_L_c --> 15dap_c + co2_c\n",
      "\n",
      "CONSUMING REACTIONS -- 1,5-Diaminopentane (15dap_c)\n",
      "---------------------------------------------------\n",
      "%       FLUX  RXN ID      REACTION\n",
      "----  ------  ----------  ---------------------------------\n",
      "100%   0.677  DM_15dap_c  15dap_c -->\n"
     ]
    },
    {
     "name": "stderr",
     "output_type": "stream",
     "text": [
      "/home/ensakz/anaconda3/envs/GEM_py36/lib/python3.6/site-packages/ipykernel_launcher.py:6 \u001b[1;31mFutureWarning\u001b[0m: The signature of `Series.to_csv` was aligned to that of `DataFrame.to_csv`, and argument 'header' will change its default value from False to True: please pass an explicit value to suppress this warning.\n"
     ]
    }
   ],
   "source": [
    "with iMsOB3b as model:\n",
    "    model.objective = 'DM_15dap_c'\n",
    "    model.reactions.DM_lys_L_e.bounds = (0, 1000)\n",
    "    solution = cobra.flux_analysis.pfba(model).fluxes\n",
    "    solution.to_csv(cadaverine_directory + 'simulations/' + 'cadaverine_antiport_objective_function_no3'\n",
    "                    + '.csv')\n",
    "    model.summary()\n",
    "    model.metabolites.get_by_id(\"15dap_c\").summary()"
   ]
  },
  {
   "cell_type": "code",
   "execution_count": 66,
   "metadata": {
    "ExecuteTime": {
     "end_time": "2020-05-04T05:15:06.487705Z",
     "start_time": "2020-05-04T05:15:06.131787Z"
    }
   },
   "outputs": [
    {
     "name": "stdout",
     "output_type": "stream",
     "text": [
      "IN FLUXES      OUT FLUXES    OBJECTIVES\n",
      "-------------  ------------  ----------------\n",
      "o2_e   22.4    h2o_e  25.5   DM_15dap_c  1.06\n",
      "ch4_e  14.9    co2_e   9.58\n",
      "nh4_e   2.13\n",
      "h_e     0.532\n",
      "PRODUCING REACTIONS -- 1,5-Diaminopentane (15dap_c)\n",
      "---------------------------------------------------\n",
      "%       FLUX  RXN ID      REACTION\n",
      "----  ------  ----------  ---------------------------------\n",
      "100%    1.06  LYSDC       h_c + lys_L_c --> 15dap_c + co2_c\n",
      "\n",
      "CONSUMING REACTIONS -- 1,5-Diaminopentane (15dap_c)\n",
      "---------------------------------------------------\n",
      "%       FLUX  RXN ID      REACTION\n",
      "----  ------  ----------  ---------------------------------\n",
      "100%    1.06  DM_15dap_c  15dap_c -->\n"
     ]
    },
    {
     "name": "stderr",
     "output_type": "stream",
     "text": [
      "/home/ensakz/anaconda3/envs/GEM_py36/lib/python3.6/site-packages/ipykernel_launcher.py:7 \u001b[1;31mFutureWarning\u001b[0m: The signature of `Series.to_csv` was aligned to that of `DataFrame.to_csv`, and argument 'header' will change its default value from False to True: please pass an explicit value to suppress this warning.\n"
     ]
    }
   ],
   "source": [
    "with iMsOB3b as model:\n",
    "    model.objective = 'DM_15dap_c'\n",
    "    iMsOB3b.reactions.EX_nh4_e.bounds = (-1000, 0)\n",
    "    model.reactions.DM_lys_L_e.bounds = (0, 1000)\n",
    "    solution = cobra.flux_analysis.pfba(model).fluxes\n",
    "    solution.to_csv(cadaverine_directory + 'simulations/' + 'cadaverine_antiport_objective_function_nh4'\n",
    "                    + '.csv')\n",
    "    model.summary()\n",
    "    model.metabolites.get_by_id(\"15dap_c\").summary()"
   ]
  },
  {
   "cell_type": "markdown",
   "metadata": {},
   "source": [
    "## Overexpression of genes (lysC) and (lysA)\n",
    "ASPK (lysC) and DAPDC (lysA)"
   ]
  },
  {
   "cell_type": "code",
   "execution_count": 67,
   "metadata": {
    "ExecuteTime": {
     "end_time": "2020-05-04T05:15:09.119544Z",
     "start_time": "2020-05-04T05:15:08.885973Z"
    },
    "code_folding": []
   },
   "outputs": [
    {
     "name": "stdout",
     "output_type": "stream",
     "text": [
      "0.3232444289422262\n",
      "0.031575378153261995\n",
      "0.0\n"
     ]
    }
   ],
   "source": [
    "with iMsOB3b as model:\n",
    "    solution = cobra.flux_analysis.pfba(model).fluxes\n",
    "    print(solution[\"ASPK\"])\n",
    "    print(solution[\"DAPDC\"])\n",
    "    print(solution[\"PC\"])"
   ]
  },
  {
   "cell_type": "markdown",
   "metadata": {
    "ExecuteTime": {
     "end_time": "2020-04-20T18:01:45.248224Z",
     "start_time": "2020-04-20T18:01:45.243400Z"
    }
   },
   "source": [
    "ASPK overexpression 2 fold:"
   ]
  },
  {
   "cell_type": "code",
   "execution_count": 68,
   "metadata": {
    "ExecuteTime": {
     "end_time": "2020-05-04T05:15:12.225325Z",
     "start_time": "2020-05-04T05:15:11.796511Z"
    }
   },
   "outputs": [
    {
     "name": "stdout",
     "output_type": "stream",
     "text": [
      "IN FLUXES             OUT FLUXES    OBJECTIVES\n",
      "--------------------  ------------  ----------------------\n",
      "o2_e       22.4       h2o_e  26.4   Biomass_Mext...  0.123\n",
      "ch4_e      14.9       co2_e   9.97\n",
      "h_e         2.12\n",
      "no3_e       1.2\n",
      "pi_e        0.0857\n",
      "k_e         0.0226\n",
      "so4_e       0.00774\n",
      "mg2_e       0.00101\n",
      "fe2_e       0.000984\n",
      "ca2_e       0.000607\n",
      "cl_e        0.000607\n",
      "na1_e       0.000499\n",
      "mobd_e      0.000432\n",
      "cu2_e       0.000405\n",
      "mn2_e       0.000405\n",
      "zn2_e       0.000405\n",
      "cobalt2_e   2.69e-05\n"
     ]
    },
    {
     "name": "stderr",
     "output_type": "stream",
     "text": [
      "/home/ensakz/anaconda3/envs/GEM_py36/lib/python3.6/site-packages/ipykernel_launcher.py:6 \u001b[1;31mFutureWarning\u001b[0m: The signature of `Series.to_csv` was aligned to that of `DataFrame.to_csv`, and argument 'header' will change its default value from False to True: please pass an explicit value to suppress this warning.\n"
     ]
    }
   ],
   "source": [
    "with iMsOB3b as model:\n",
    "    model.reactions.ASPK.bounds = ((0.32324442894222916*2), (0.32324442894222916*2))\n",
    "    model.reactions.DM_lys_L_e.bounds = (0, 1000)\n",
    "    solution = cobra.flux_analysis.pfba(model).fluxes\n",
    "    solution.to_csv(cadaverine_directory + 'simulations/' + 'aspk_lysC_overexpression_no3'\n",
    "                    + '.csv')\n",
    "    model.summary()"
   ]
  },
  {
   "cell_type": "markdown",
   "metadata": {},
   "source": [
    "DAPDC (lysA) 2 old:"
   ]
  },
  {
   "cell_type": "code",
   "execution_count": 69,
   "metadata": {
    "ExecuteTime": {
     "end_time": "2020-05-04T05:15:15.131510Z",
     "start_time": "2020-05-04T05:15:14.727595Z"
    }
   },
   "outputs": [
    {
     "name": "stderr",
     "output_type": "stream",
     "text": [
      "/home/ensakz/anaconda3/envs/GEM_py36/lib/python3.6/site-packages/ipykernel_launcher.py:6 \u001b[1;31mFutureWarning\u001b[0m: The signature of `Series.to_csv` was aligned to that of `DataFrame.to_csv`, and argument 'header' will change its default value from False to True: please pass an explicit value to suppress this warning.\n"
     ]
    },
    {
     "name": "stdout",
     "output_type": "stream",
     "text": [
      "IN FLUXES          OUT FLUXES    OBJECTIVES\n",
      "-----------------  ------------  ----------------------\n",
      "o2_e    22.4       h2o_e  26.4   Biomass_Mext...  0.117\n",
      "ch4_e   14.9       co2_e  10\n",
      "h_e      3.25\n",
      "no3_e    1.21\n",
      "pi_e     0.0815\n",
      "k_e      0.0215\n",
      "so4_e    0.00736\n",
      "mg2_e    0.000962\n",
      "fe2_e    0.000936\n",
      "cl_e     0.000577\n",
      "ca2_e    0.000577\n",
      "na1_e    0.000475\n",
      "mobd_e   0.00041\n",
      "cu2_e    0.000385\n",
      "mn2_e    0.000385\n",
      "zn2_e    0.000385\n",
      "PRODUCING REACTIONS -- 1,5-Diaminopentane (15dap_c)\n",
      "---------------------------------------------------\n",
      "%       FLUX  RXN ID      REACTION\n",
      "----  ------  ----------  ---------------------------------\n",
      "100%  0.0331  LYSDC       h_c + lys_L_c --> 15dap_c + co2_c\n",
      "\n",
      "CONSUMING REACTIONS -- 1,5-Diaminopentane (15dap_c)\n",
      "---------------------------------------------------\n",
      "%       FLUX  RXN ID      REACTION\n",
      "----  ------  ----------  ---------------------------------\n",
      "100%  0.0331  DM_15dap_c  15dap_c -->\n"
     ]
    }
   ],
   "source": [
    "with iMsOB3b as model:\n",
    "    model.reactions.DAPDC.bounds = ((0.0315753781532617*2), (0.0315753781532617*2))\n",
    "    model.reactions.DM_lys_L_e.bounds = (0, 1000)\n",
    "    solution = cobra.flux_analysis.pfba(model).fluxes\n",
    "    solution.to_csv(cadaverine_directory + 'simulations/' + 'dapdc_lysA_overexpression_no3'\n",
    "                    + '.csv')\n",
    "    model.summary()\n",
    "    model.metabolites.get_by_id(\"15dap_c\").summary()"
   ]
  },
  {
   "cell_type": "markdown",
   "metadata": {},
   "source": [
    "## FVA"
   ]
  },
  {
   "cell_type": "code",
   "execution_count": 72,
   "metadata": {
    "ExecuteTime": {
     "end_time": "2020-05-04T05:15:36.573187Z",
     "start_time": "2020-05-04T05:15:36.570117Z"
    }
   },
   "outputs": [],
   "source": [
    "from cobra.flux_analysis import flux_variability_analysis"
   ]
  },
  {
   "cell_type": "markdown",
   "metadata": {
    "ExecuteTime": {
     "end_time": "2020-04-20T23:15:34.752435Z",
     "start_time": "2020-04-20T23:15:34.747750Z"
    }
   },
   "source": [
    "Loopsless FVA (NO3):"
   ]
  },
  {
   "cell_type": "code",
   "execution_count": 102,
   "metadata": {
    "ExecuteTime": {
     "end_time": "2020-05-04T13:38:38.857326Z",
     "start_time": "2020-05-04T13:38:37.726616Z"
    }
   },
   "outputs": [],
   "source": [
    "with iMsOB3b as model:\n",
    "    model.reactions.CADVt.bounds = (0, 0)\n",
    "    model.reactions.EX_15dap_e.bounds = (0, 0)\n",
    "    model.reactions.DM_lys_L_e.bounds = (0, 0)\n",
    "    FVA_loopless = flux_variability_analysis(model, model.reactions, fraction_of_optimum=1)\n",
    "    FVA_loopless.to_csv(cadaverine_directory + \"simulations/\" + \"FVA_loopless_no3.csv\")"
   ]
  },
  {
   "cell_type": "markdown",
   "metadata": {
    "ExecuteTime": {
     "end_time": "2020-04-20T23:01:31.205305Z",
     "start_time": "2020-04-20T23:01:31.187887Z"
    }
   },
   "source": [
    "Loopsless FVA (NH4):"
   ]
  },
  {
   "cell_type": "code",
   "execution_count": 78,
   "metadata": {
    "ExecuteTime": {
     "end_time": "2020-05-04T05:24:14.510783Z",
     "start_time": "2020-05-04T05:24:13.674374Z"
    }
   },
   "outputs": [],
   "source": [
    "with iMsOB3b as model:\n",
    "    model.reactions.CADVt.bounds = (0, 0)\n",
    "    model.reactions.EX_15dap_e.bounds = (0, 0)\n",
    "    model.reactions.DM_lys_L_e.bounds = (0, 0)\n",
    "    model.reactions.EX_nh4_e.bounds = (-1000, 0)\n",
    "    model.reactions.EX_no3_e.bounds = (0, 0)\n",
    "    FVA_loopless = flux_variability_analysis(model, model.reactions, fraction_of_optimum=1)\n",
    "    FVA_loopless.to_csv(cadaverine_directory + \"simulations/\" + \"FVA_loopless_nh4.csv\")"
   ]
  },
  {
   "cell_type": "markdown",
   "metadata": {},
   "source": [
    "# MCMC sampling"
   ]
  },
  {
   "cell_type": "markdown",
   "metadata": {},
   "source": [
    "NO3:"
   ]
  },
  {
   "cell_type": "code",
   "execution_count": 79,
   "metadata": {
    "ExecuteTime": {
     "end_time": "2020-05-04T05:29:25.014435Z",
     "start_time": "2020-05-04T05:24:27.695429Z"
    }
   },
   "outputs": [
    {
     "data": {
      "text/html": [
       "<div>\n",
       "<style scoped>\n",
       "    .dataframe tbody tr th:only-of-type {\n",
       "        vertical-align: middle;\n",
       "    }\n",
       "\n",
       "    .dataframe tbody tr th {\n",
       "        vertical-align: top;\n",
       "    }\n",
       "\n",
       "    .dataframe thead th {\n",
       "        text-align: right;\n",
       "    }\n",
       "</style>\n",
       "<table border=\"1\" class=\"dataframe\">\n",
       "  <thead>\n",
       "    <tr style=\"text-align: right;\">\n",
       "      <th></th>\n",
       "      <th>EAOXRED</th>\n",
       "      <th>IMPC</th>\n",
       "      <th>HACD8i</th>\n",
       "      <th>PANTS</th>\n",
       "      <th>IMPD</th>\n",
       "      <th>OCPPH3</th>\n",
       "      <th>PGSA161</th>\n",
       "      <th>LCAD</th>\n",
       "      <th>PGSA160</th>\n",
       "      <th>PPAtex</th>\n",
       "      <th>...</th>\n",
       "      <th>UREA</th>\n",
       "      <th>SCYSDS</th>\n",
       "      <th>MOCDS</th>\n",
       "      <th>MCITD</th>\n",
       "      <th>NMNS</th>\n",
       "      <th>DHCYTCPEROX</th>\n",
       "      <th>PPK2</th>\n",
       "      <th>HAMR</th>\n",
       "      <th>HAORipp</th>\n",
       "      <th>ACSPW</th>\n",
       "    </tr>\n",
       "  </thead>\n",
       "  <tbody>\n",
       "    <tr>\n",
       "      <th>0</th>\n",
       "      <td>0.000094</td>\n",
       "      <td>0.041193</td>\n",
       "      <td>0.002313</td>\n",
       "      <td>0.000027</td>\n",
       "      <td>0.014805</td>\n",
       "      <td>0.000027</td>\n",
       "      <td>0.000122</td>\n",
       "      <td>0.0</td>\n",
       "      <td>0.000121</td>\n",
       "      <td>0.0</td>\n",
       "      <td>...</td>\n",
       "      <td>0.0</td>\n",
       "      <td>0.0</td>\n",
       "      <td>0.0</td>\n",
       "      <td>0.0</td>\n",
       "      <td>0.0</td>\n",
       "      <td>0.002764</td>\n",
       "      <td>0.033220</td>\n",
       "      <td>0.000023</td>\n",
       "      <td>0.000175</td>\n",
       "      <td>0.110576</td>\n",
       "    </tr>\n",
       "    <tr>\n",
       "      <th>1</th>\n",
       "      <td>0.000093</td>\n",
       "      <td>0.040735</td>\n",
       "      <td>0.007907</td>\n",
       "      <td>0.000027</td>\n",
       "      <td>0.014640</td>\n",
       "      <td>0.000027</td>\n",
       "      <td>0.000121</td>\n",
       "      <td>0.0</td>\n",
       "      <td>0.000120</td>\n",
       "      <td>0.0</td>\n",
       "      <td>...</td>\n",
       "      <td>0.0</td>\n",
       "      <td>0.0</td>\n",
       "      <td>0.0</td>\n",
       "      <td>0.0</td>\n",
       "      <td>0.0</td>\n",
       "      <td>0.002934</td>\n",
       "      <td>0.051165</td>\n",
       "      <td>0.000414</td>\n",
       "      <td>0.003836</td>\n",
       "      <td>0.353358</td>\n",
       "    </tr>\n",
       "    <tr>\n",
       "      <th>2</th>\n",
       "      <td>0.000093</td>\n",
       "      <td>0.040615</td>\n",
       "      <td>0.026037</td>\n",
       "      <td>0.000026</td>\n",
       "      <td>0.014597</td>\n",
       "      <td>0.000026</td>\n",
       "      <td>0.000121</td>\n",
       "      <td>0.0</td>\n",
       "      <td>0.000120</td>\n",
       "      <td>0.0</td>\n",
       "      <td>...</td>\n",
       "      <td>0.0</td>\n",
       "      <td>0.0</td>\n",
       "      <td>0.0</td>\n",
       "      <td>0.0</td>\n",
       "      <td>0.0</td>\n",
       "      <td>0.006669</td>\n",
       "      <td>0.033147</td>\n",
       "      <td>0.000413</td>\n",
       "      <td>0.006691</td>\n",
       "      <td>0.368706</td>\n",
       "    </tr>\n",
       "    <tr>\n",
       "      <th>3</th>\n",
       "      <td>0.000091</td>\n",
       "      <td>0.039576</td>\n",
       "      <td>0.010087</td>\n",
       "      <td>0.000026</td>\n",
       "      <td>0.014223</td>\n",
       "      <td>0.000026</td>\n",
       "      <td>0.000118</td>\n",
       "      <td>0.0</td>\n",
       "      <td>0.000117</td>\n",
       "      <td>0.0</td>\n",
       "      <td>...</td>\n",
       "      <td>0.0</td>\n",
       "      <td>0.0</td>\n",
       "      <td>0.0</td>\n",
       "      <td>0.0</td>\n",
       "      <td>0.0</td>\n",
       "      <td>0.005464</td>\n",
       "      <td>0.127015</td>\n",
       "      <td>0.004714</td>\n",
       "      <td>0.005952</td>\n",
       "      <td>0.733484</td>\n",
       "    </tr>\n",
       "    <tr>\n",
       "      <th>4</th>\n",
       "      <td>0.000090</td>\n",
       "      <td>0.039493</td>\n",
       "      <td>0.002887</td>\n",
       "      <td>0.000026</td>\n",
       "      <td>0.014193</td>\n",
       "      <td>0.000026</td>\n",
       "      <td>0.000117</td>\n",
       "      <td>0.0</td>\n",
       "      <td>0.000116</td>\n",
       "      <td>0.0</td>\n",
       "      <td>...</td>\n",
       "      <td>0.0</td>\n",
       "      <td>0.0</td>\n",
       "      <td>0.0</td>\n",
       "      <td>0.0</td>\n",
       "      <td>0.0</td>\n",
       "      <td>0.005687</td>\n",
       "      <td>0.160756</td>\n",
       "      <td>0.004444</td>\n",
       "      <td>0.017407</td>\n",
       "      <td>0.764560</td>\n",
       "    </tr>\n",
       "  </tbody>\n",
       "</table>\n",
       "<p>5 rows × 1041 columns</p>\n",
       "</div>"
      ],
      "text/plain": [
       "    EAOXRED      IMPC    HACD8i     PANTS      IMPD    OCPPH3   PGSA161  LCAD  \\\n",
       "0  0.000094  0.041193  0.002313  0.000027  0.014805  0.000027  0.000122   0.0   \n",
       "1  0.000093  0.040735  0.007907  0.000027  0.014640  0.000027  0.000121   0.0   \n",
       "2  0.000093  0.040615  0.026037  0.000026  0.014597  0.000026  0.000121   0.0   \n",
       "3  0.000091  0.039576  0.010087  0.000026  0.014223  0.000026  0.000118   0.0   \n",
       "4  0.000090  0.039493  0.002887  0.000026  0.014193  0.000026  0.000117   0.0   \n",
       "\n",
       "    PGSA160  PPAtex  ...  UREA  SCYSDS  MOCDS  MCITD  NMNS  DHCYTCPEROX  \\\n",
       "0  0.000121     0.0  ...   0.0     0.0    0.0    0.0   0.0     0.002764   \n",
       "1  0.000120     0.0  ...   0.0     0.0    0.0    0.0   0.0     0.002934   \n",
       "2  0.000120     0.0  ...   0.0     0.0    0.0    0.0   0.0     0.006669   \n",
       "3  0.000117     0.0  ...   0.0     0.0    0.0    0.0   0.0     0.005464   \n",
       "4  0.000116     0.0  ...   0.0     0.0    0.0    0.0   0.0     0.005687   \n",
       "\n",
       "       PPK2      HAMR   HAORipp     ACSPW  \n",
       "0  0.033220  0.000023  0.000175  0.110576  \n",
       "1  0.051165  0.000414  0.003836  0.353358  \n",
       "2  0.033147  0.000413  0.006691  0.368706  \n",
       "3  0.127015  0.004714  0.005952  0.733484  \n",
       "4  0.160756  0.004444  0.017407  0.764560  \n",
       "\n",
       "[5 rows x 1041 columns]"
      ]
     },
     "execution_count": 79,
     "metadata": {},
     "output_type": "execute_result"
    }
   ],
   "source": [
    "from cobra.test import create_test_model\n",
    "from cobra.flux_analysis import sample\n",
    "iMsOB3b_original.reactions.Biomass_Mextorquens_AM1_core.bounds = (0.1164735934, 1000) \n",
    "#95% of flux distribution\n",
    "\n",
    "s = sample(iMsOB3b_original, 10000, seed=1)\n",
    "s.head()"
   ]
  },
  {
   "cell_type": "code",
   "execution_count": 80,
   "metadata": {
    "ExecuteTime": {
     "end_time": "2020-05-04T05:29:48.447721Z",
     "start_time": "2020-05-04T05:29:25.244894Z"
    }
   },
   "outputs": [],
   "source": [
    "s.to_csv(cadaverine_directory + \"simulations/\" + \"MCMC_sampling_original_no3.csv\")"
   ]
  },
  {
   "cell_type": "code",
   "execution_count": 81,
   "metadata": {
    "ExecuteTime": {
     "end_time": "2020-05-04T05:29:48.561392Z",
     "start_time": "2020-05-04T05:29:48.532202Z"
    }
   },
   "outputs": [
    {
     "name": "stderr",
     "output_type": "stream",
     "text": [
      "/home/ensakz/anaconda3/envs/GEM_py36/lib/python3.6/site-packages/ipykernel_launcher.py:1 \u001b[1;31mFutureWarning\u001b[0m: The signature of `Series.to_csv` was aligned to that of `DataFrame.to_csv`, and argument 'header' will change its default value from False to True: please pass an explicit value to suppress this warning.\n"
     ]
    }
   ],
   "source": [
    "s.mean().to_csv(cadaverine_directory + \"simulations/\" + \"MCMC_sampling_original_mean_no3.csv\")"
   ]
  },
  {
   "cell_type": "markdown",
   "metadata": {},
   "source": [
    "NH4:"
   ]
  },
  {
   "cell_type": "code",
   "execution_count": 82,
   "metadata": {
    "ExecuteTime": {
     "end_time": "2020-05-04T05:37:09.272329Z",
     "start_time": "2020-05-04T05:32:41.766497Z"
    }
   },
   "outputs": [
    {
     "data": {
      "text/html": [
       "<div>\n",
       "<style scoped>\n",
       "    .dataframe tbody tr th:only-of-type {\n",
       "        vertical-align: middle;\n",
       "    }\n",
       "\n",
       "    .dataframe tbody tr th {\n",
       "        vertical-align: top;\n",
       "    }\n",
       "\n",
       "    .dataframe thead th {\n",
       "        text-align: right;\n",
       "    }\n",
       "</style>\n",
       "<table border=\"1\" class=\"dataframe\">\n",
       "  <thead>\n",
       "    <tr style=\"text-align: right;\">\n",
       "      <th></th>\n",
       "      <th>EAOXRED</th>\n",
       "      <th>IMPC</th>\n",
       "      <th>HACD8i</th>\n",
       "      <th>PANTS</th>\n",
       "      <th>IMPD</th>\n",
       "      <th>OCPPH3</th>\n",
       "      <th>PGSA161</th>\n",
       "      <th>LCAD</th>\n",
       "      <th>PGSA160</th>\n",
       "      <th>PPAtex</th>\n",
       "      <th>...</th>\n",
       "      <th>UREA</th>\n",
       "      <th>SCYSDS</th>\n",
       "      <th>MOCDS</th>\n",
       "      <th>MCITD</th>\n",
       "      <th>NMNS</th>\n",
       "      <th>DHCYTCPEROX</th>\n",
       "      <th>PPK2</th>\n",
       "      <th>HAMR</th>\n",
       "      <th>HAORipp</th>\n",
       "      <th>ACSPW</th>\n",
       "    </tr>\n",
       "  </thead>\n",
       "  <tbody>\n",
       "    <tr>\n",
       "      <th>0</th>\n",
       "      <td>0.000123</td>\n",
       "      <td>0.053592</td>\n",
       "      <td>0.002141</td>\n",
       "      <td>0.000035</td>\n",
       "      <td>0.019261</td>\n",
       "      <td>0.000035</td>\n",
       "      <td>0.000159</td>\n",
       "      <td>0.0</td>\n",
       "      <td>0.000158</td>\n",
       "      <td>0.0</td>\n",
       "      <td>...</td>\n",
       "      <td>0.0</td>\n",
       "      <td>0.0</td>\n",
       "      <td>0.0</td>\n",
       "      <td>0.0</td>\n",
       "      <td>0.0</td>\n",
       "      <td>2.606578e-07</td>\n",
       "      <td>0.002009</td>\n",
       "      <td>0.009009</td>\n",
       "      <td>0.022094</td>\n",
       "      <td>1.146309</td>\n",
       "    </tr>\n",
       "    <tr>\n",
       "      <th>1</th>\n",
       "      <td>0.000123</td>\n",
       "      <td>0.053647</td>\n",
       "      <td>-0.000389</td>\n",
       "      <td>0.000035</td>\n",
       "      <td>0.019281</td>\n",
       "      <td>0.000035</td>\n",
       "      <td>0.000159</td>\n",
       "      <td>0.0</td>\n",
       "      <td>0.000158</td>\n",
       "      <td>0.0</td>\n",
       "      <td>...</td>\n",
       "      <td>0.0</td>\n",
       "      <td>0.0</td>\n",
       "      <td>0.0</td>\n",
       "      <td>0.0</td>\n",
       "      <td>0.0</td>\n",
       "      <td>7.612514e-05</td>\n",
       "      <td>0.011728</td>\n",
       "      <td>0.013345</td>\n",
       "      <td>0.156359</td>\n",
       "      <td>1.156918</td>\n",
       "    </tr>\n",
       "    <tr>\n",
       "      <th>2</th>\n",
       "      <td>0.000123</td>\n",
       "      <td>0.053729</td>\n",
       "      <td>-0.000917</td>\n",
       "      <td>0.000035</td>\n",
       "      <td>0.019310</td>\n",
       "      <td>0.000035</td>\n",
       "      <td>0.000160</td>\n",
       "      <td>0.0</td>\n",
       "      <td>0.000158</td>\n",
       "      <td>0.0</td>\n",
       "      <td>...</td>\n",
       "      <td>0.0</td>\n",
       "      <td>0.0</td>\n",
       "      <td>0.0</td>\n",
       "      <td>0.0</td>\n",
       "      <td>0.0</td>\n",
       "      <td>4.413000e-02</td>\n",
       "      <td>0.164569</td>\n",
       "      <td>0.029888</td>\n",
       "      <td>0.218318</td>\n",
       "      <td>1.059617</td>\n",
       "    </tr>\n",
       "    <tr>\n",
       "      <th>3</th>\n",
       "      <td>0.000123</td>\n",
       "      <td>0.053586</td>\n",
       "      <td>0.004375</td>\n",
       "      <td>0.000035</td>\n",
       "      <td>0.019258</td>\n",
       "      <td>0.000035</td>\n",
       "      <td>0.000159</td>\n",
       "      <td>0.0</td>\n",
       "      <td>0.000158</td>\n",
       "      <td>0.0</td>\n",
       "      <td>...</td>\n",
       "      <td>0.0</td>\n",
       "      <td>0.0</td>\n",
       "      <td>0.0</td>\n",
       "      <td>0.0</td>\n",
       "      <td>0.0</td>\n",
       "      <td>8.478634e-03</td>\n",
       "      <td>0.168738</td>\n",
       "      <td>0.015636</td>\n",
       "      <td>0.235540</td>\n",
       "      <td>1.091594</td>\n",
       "    </tr>\n",
       "    <tr>\n",
       "      <th>4</th>\n",
       "      <td>0.000123</td>\n",
       "      <td>0.053667</td>\n",
       "      <td>0.000361</td>\n",
       "      <td>0.000035</td>\n",
       "      <td>0.019288</td>\n",
       "      <td>0.000035</td>\n",
       "      <td>0.000159</td>\n",
       "      <td>0.0</td>\n",
       "      <td>0.000158</td>\n",
       "      <td>0.0</td>\n",
       "      <td>...</td>\n",
       "      <td>0.0</td>\n",
       "      <td>0.0</td>\n",
       "      <td>0.0</td>\n",
       "      <td>0.0</td>\n",
       "      <td>0.0</td>\n",
       "      <td>8.927307e-04</td>\n",
       "      <td>0.183211</td>\n",
       "      <td>0.004727</td>\n",
       "      <td>0.101502</td>\n",
       "      <td>1.087899</td>\n",
       "    </tr>\n",
       "  </tbody>\n",
       "</table>\n",
       "<p>5 rows × 1041 columns</p>\n",
       "</div>"
      ],
      "text/plain": [
       "    EAOXRED      IMPC    HACD8i     PANTS      IMPD    OCPPH3   PGSA161  LCAD  \\\n",
       "0  0.000123  0.053592  0.002141  0.000035  0.019261  0.000035  0.000159   0.0   \n",
       "1  0.000123  0.053647 -0.000389  0.000035  0.019281  0.000035  0.000159   0.0   \n",
       "2  0.000123  0.053729 -0.000917  0.000035  0.019310  0.000035  0.000160   0.0   \n",
       "3  0.000123  0.053586  0.004375  0.000035  0.019258  0.000035  0.000159   0.0   \n",
       "4  0.000123  0.053667  0.000361  0.000035  0.019288  0.000035  0.000159   0.0   \n",
       "\n",
       "    PGSA160  PPAtex  ...  UREA  SCYSDS  MOCDS  MCITD  NMNS   DHCYTCPEROX  \\\n",
       "0  0.000158     0.0  ...   0.0     0.0    0.0    0.0   0.0  2.606578e-07   \n",
       "1  0.000158     0.0  ...   0.0     0.0    0.0    0.0   0.0  7.612514e-05   \n",
       "2  0.000158     0.0  ...   0.0     0.0    0.0    0.0   0.0  4.413000e-02   \n",
       "3  0.000158     0.0  ...   0.0     0.0    0.0    0.0   0.0  8.478634e-03   \n",
       "4  0.000158     0.0  ...   0.0     0.0    0.0    0.0   0.0  8.927307e-04   \n",
       "\n",
       "       PPK2      HAMR   HAORipp     ACSPW  \n",
       "0  0.002009  0.009009  0.022094  1.146309  \n",
       "1  0.011728  0.013345  0.156359  1.156918  \n",
       "2  0.164569  0.029888  0.218318  1.059617  \n",
       "3  0.168738  0.015636  0.235540  1.091594  \n",
       "4  0.183211  0.004727  0.101502  1.087899  \n",
       "\n",
       "[5 rows x 1041 columns]"
      ]
     },
     "execution_count": 82,
     "metadata": {},
     "output_type": "execute_result"
    }
   ],
   "source": [
    "from cobra.test import create_test_model\n",
    "from cobra.flux_analysis import sample\n",
    "iMsOB3b_original.reactions.EX_no3_e.bounds = (0, 0)\n",
    "iMsOB3b_original.reactions.EX_nh4_e.bounds = (-1000, 0)\n",
    "iMsOB3b_original.reactions.Biomass_Mextorquens_AM1_core.bounds = (0.15871327233, 1000) \n",
    "#95% of flux distribution\n",
    "\n",
    "s = sample(iMsOB3b_original, 10000, seed=1)\n",
    "s.head()"
   ]
  },
  {
   "cell_type": "code",
   "execution_count": 83,
   "metadata": {
    "ExecuteTime": {
     "end_time": "2020-05-04T05:37:32.227644Z",
     "start_time": "2020-05-04T05:37:09.458565Z"
    }
   },
   "outputs": [],
   "source": [
    "s.to_csv(cadaverine_directory + \"simulations/\" + \"MCMC_sampling_original_nh4.csv\")"
   ]
  },
  {
   "cell_type": "code",
   "execution_count": 84,
   "metadata": {
    "ExecuteTime": {
     "end_time": "2020-05-04T05:37:32.353519Z",
     "start_time": "2020-05-04T05:37:32.312709Z"
    }
   },
   "outputs": [
    {
     "name": "stderr",
     "output_type": "stream",
     "text": [
      "/home/ensakz/anaconda3/envs/GEM_py36/lib/python3.6/site-packages/ipykernel_launcher.py:1 \u001b[1;31mFutureWarning\u001b[0m: The signature of `Series.to_csv` was aligned to that of `DataFrame.to_csv`, and argument 'header' will change its default value from False to True: please pass an explicit value to suppress this warning.\n"
     ]
    }
   ],
   "source": [
    "s.mean().to_csv(cadaverine_directory + \"simulations/\" + \"MCMC_sampling_original_mean_nh4.csv\")"
   ]
  },
  {
   "cell_type": "code",
   "execution_count": null,
   "metadata": {},
   "outputs": [],
   "source": []
  }
 ],
 "metadata": {
  "kernelspec": {
   "display_name": "Python [conda env:GEM_py36]",
   "language": "python",
   "name": "conda-env-GEM_py36-py"
  },
  "language_info": {
   "codemirror_mode": {
    "name": "ipython",
    "version": 3
   },
   "file_extension": ".py",
   "mimetype": "text/x-python",
   "name": "python",
   "nbconvert_exporter": "python",
   "pygments_lexer": "ipython3",
   "version": "3.6.9"
  },
  "toc": {
   "base_numbering": 1,
   "nav_menu": {},
   "number_sections": true,
   "sideBar": true,
   "skip_h1_title": false,
   "title_cell": "Table of Contents",
   "title_sidebar": "Contents",
   "toc_cell": false,
   "toc_position": {
    "height": "calc(100% - 180px)",
    "left": "10px",
    "top": "150px",
    "width": "264.6px"
   },
   "toc_section_display": true,
   "toc_window_display": true
  },
  "varInspector": {
   "cols": {
    "lenName": 16,
    "lenType": 16,
    "lenVar": 40
   },
   "kernels_config": {
    "python": {
     "delete_cmd_postfix": "",
     "delete_cmd_prefix": "del ",
     "library": "var_list.py",
     "varRefreshCmd": "print(var_dic_list())"
    },
    "r": {
     "delete_cmd_postfix": ") ",
     "delete_cmd_prefix": "rm(",
     "library": "var_list.r",
     "varRefreshCmd": "cat(var_dic_list()) "
    }
   },
   "position": {
    "height": "300.85px",
    "left": "1487px",
    "right": "20px",
    "top": "106px",
    "width": "363px"
   },
   "types_to_exclude": [
    "module",
    "function",
    "builtin_function_or_method",
    "instance",
    "_Feature"
   ],
   "window_display": true
  }
 },
 "nbformat": 4,
 "nbformat_minor": 2
}
