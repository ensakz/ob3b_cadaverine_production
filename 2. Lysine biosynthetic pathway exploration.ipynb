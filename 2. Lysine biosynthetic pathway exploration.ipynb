{
 "cells": [
  {
   "cell_type": "markdown",
   "metadata": {
    "hideCode": false,
    "hidePrompt": false
   },
   "source": [
    "# Load dependencies:"
   ]
  },
  {
   "cell_type": "code",
   "execution_count": 1,
   "metadata": {
    "ExecuteTime": {
     "end_time": "2020-04-20T05:25:25.029888Z",
     "start_time": "2020-04-20T05:25:12.024826Z"
    },
    "hideCode": false,
    "hidePrompt": false
   },
   "outputs": [],
   "source": [
    "import cobra\n",
    "import libsbml\n",
    "import lxml\n",
    "\n",
    "models_directory = '/media/sf_Shared/Systems_biology/Metabolic_models/'\n",
    "OB3b_directory = '/media/sf_Shared/GEM_OB3b/'\n",
    "memote_directory = '/home/ensakz/Desktop/memote_m_trichosporium/'\n",
    "fastas_directory = '/media/sf_Shared/Systems_biology/Fastas_and_annotations/'\n",
    "inparanoid_directory = '/media/sf_Shared/Systems_biology/InParanoid_runs/'\n",
    "draft_gems_dir_8 = 'draft_gems/8.OB3b_draft_gem_during_pathway_manual_curation/'\n",
    "gem_confirmation = 'gem_confirmation/'"
   ]
  },
  {
   "cell_type": "code",
   "execution_count": 2,
   "metadata": {
    "ExecuteTime": {
     "end_time": "2020-04-20T05:25:26.223829Z",
     "start_time": "2020-04-20T05:25:25.048805Z"
    },
    "hideCode": false,
    "hidePrompt": false
   },
   "outputs": [],
   "source": [
    "iMsOB3b = cobra.io.load_json_model(models_directory + \"iMsOB3b.json\")"
   ]
  },
  {
   "cell_type": "code",
   "execution_count": 3,
   "metadata": {
    "ExecuteTime": {
     "end_time": "2020-04-20T05:25:35.746873Z",
     "start_time": "2020-04-20T05:25:35.289483Z"
    }
   },
   "outputs": [
    {
     "name": "stdout",
     "output_type": "stream",
     "text": [
      "IN FLUXES             OUT FLUXES    OBJECTIVES\n",
      "--------------------  ------------  ----------------------\n",
      "o2_e       22.4       h2o_e  26.4   Biomass_Mext...  0.123\n",
      "ch4_e      14.9       co2_e   9.97\n",
      "h_e         5.71\n",
      "no3_e       1.2\n",
      "pi_e        0.0857\n",
      "k_e         0.0226\n",
      "so4_e       0.00774\n",
      "mg2_e       0.00101\n",
      "fe2_e       0.000984\n",
      "ca2_e       0.000607\n",
      "cl_e        0.000607\n",
      "na1_e       0.000499\n",
      "mobd_e      0.000432\n",
      "cu2_e       0.000405\n",
      "mn2_e       0.000405\n",
      "zn2_e       0.000405\n",
      "cobalt2_e   2.69e-05\n"
     ]
    }
   ],
   "source": [
    "iMsOB3b.summary()"
   ]
  },
  {
   "cell_type": "markdown",
   "metadata": {
    "ExecuteTime": {
     "end_time": "2020-04-20T05:27:26.701726Z",
     "start_time": "2020-04-20T05:27:26.695709Z"
    },
    "cell_style": "center"
   },
   "source": [
    "# Lysine biosynthetic pathway"
   ]
  },
  {
   "cell_type": "markdown",
   "metadata": {},
   "source": [
    "## aspC"
   ]
  },
  {
   "cell_type": "code",
   "execution_count": 14,
   "metadata": {
    "ExecuteTime": {
     "end_time": "2020-04-20T05:53:37.728332Z",
     "start_time": "2020-04-20T05:53:37.719538Z"
    }
   },
   "outputs": [
    {
     "name": "stdout",
     "output_type": "stream",
     "text": [
      "aspartate aminotransferase ASPTA: akg_c + asp_L_c <=> glu_L_c + oaa_c\n"
     ]
    }
   ],
   "source": [
    "import re\n",
    "for reaction in iMsOB3b.reactions:\n",
    "    if re.search(\"aspartate aminotransferase\", reaction.name):\n",
    "        print(reaction.name, reaction)"
   ]
  },
  {
   "cell_type": "markdown",
   "metadata": {},
   "source": [
    "## lysC\n",
    "aspartate kinase III"
   ]
  },
  {
   "cell_type": "code",
   "execution_count": 16,
   "metadata": {
    "ExecuteTime": {
     "end_time": "2020-04-20T05:54:23.985905Z",
     "start_time": "2020-04-20T05:54:23.913804Z"
    }
   },
   "outputs": [
    {
     "name": "stdout",
     "output_type": "stream",
     "text": [
      "aspartate carbamoyltransferase ASPCTr: asp_L_c + cbp_c <=> cbasp_c + h_c + pi_c\n",
      "aspartate transport via diffusion  extracellular to periplasm  ASPtex: asp_L_e <=> asp_L_p\n",
      "aspartate aminotransferase ASPTA: akg_c + asp_L_c <=> glu_L_c + oaa_c\n",
      "aspartate semialdehyde dehydrogenase ASAD: 4pasp_c + h_c + nadph_c <=> aspsa_c + nadp_c + pi_c\n",
      "aspartate 1 decarboxylase ASP1DC: asp_L_c + h_c --> ala_B_c + co2_c\n",
      "L aspartate oxidase ASPO6: asp_L_c + o2_c --> h2o2_c + h_c + iasp_c\n",
      "exchange flux   L aspartate EX_asp_L_e: asp_L_e --> \n",
      "aspartate tRNA synthetase ASPTRS: asp_L_c + atp_c + trnaasp_c --> amp_c + asptrna_c + ppi_c\n",
      "nondiscriminating aspartate tRNA synthetase ASPTRS_tASN: asp_L_c + atp_c + trnaasn_c --> amp_c + asptrna_asn_c + ppi_c\n"
     ]
    }
   ],
   "source": [
    "for reaction in iMsOB3b.reactions:\n",
    "    if re.search(\"aspartate\", reaction.name):\n",
    "        print(reaction.name, reaction)"
   ]
  },
  {
   "cell_type": "markdown",
   "metadata": {},
   "source": [
    "What about aspartokinase?"
   ]
  },
  {
   "cell_type": "code",
   "execution_count": 21,
   "metadata": {
    "ExecuteTime": {
     "end_time": "2020-04-20T06:27:48.486503Z",
     "start_time": "2020-04-20T06:27:48.479306Z"
    }
   },
   "outputs": [
    {
     "data": {
      "text/html": [
       "\n",
       "        <table>\n",
       "            <tr>\n",
       "                <td><strong>Reaction identifier</strong></td><td>ASPK</td>\n",
       "            </tr><tr>\n",
       "                <td><strong>Name</strong></td><td>aspartokinase</td>\n",
       "            </tr><tr>\n",
       "                <td><strong>Memory address</strong></td>\n",
       "                <td>0x07f1e5cea4c50</td>\n",
       "            </tr><tr>\n",
       "                <td><strong>Stoichiometry</strong></td>\n",
       "                <td>\n",
       "                    <p style='text-align:right'>asp_L_c + atp_c --> 4pasp_c + adp_c</p>\n",
       "                    <p style='text-align:right'>L_aspartate + ATP --> L_aspartyl_4_phosphate + ADP</p>\n",
       "                </td>\n",
       "            </tr><tr>\n",
       "                <td><strong>GPR</strong></td><td>CQW49_02240</td>\n",
       "            </tr><tr>\n",
       "                <td><strong>Lower bound</strong></td><td>0</td>\n",
       "            </tr><tr>\n",
       "                <td><strong>Upper bound</strong></td><td>1000</td>\n",
       "            </tr>\n",
       "        </table>\n",
       "        "
      ],
      "text/plain": [
       "<Reaction ASPK at 0x7f1e5cea4c50>"
      ]
     },
     "execution_count": 21,
     "metadata": {},
     "output_type": "execute_result"
    }
   ],
   "source": [
    "iMsOB3b.reactions.ASPK"
   ]
  },
  {
   "cell_type": "code",
   "execution_count": 38,
   "metadata": {
    "ExecuteTime": {
     "end_time": "2020-04-20T06:42:35.648140Z",
     "start_time": "2020-04-20T06:42:35.642879Z"
    }
   },
   "outputs": [
    {
     "data": {
      "text/html": [
       "\n",
       "        <table>\n",
       "            <tr>\n",
       "                <td><strong>Metabolite identifier</strong></td><td>4pasp_c</td>\n",
       "            </tr><tr>\n",
       "                <td><strong>Name</strong></td><td>L_aspartyl_4_phosphate</td>\n",
       "            </tr><tr>\n",
       "                <td><strong>Memory address</strong></td>\n",
       "                <td>0x07f1e5d38c278</td>\n",
       "            </tr><tr>\n",
       "                <td><strong>Formula</strong></td><td>None</td>\n",
       "            </tr><tr>\n",
       "                <td><strong>Compartment</strong></td><td>c</td>\n",
       "            </tr><tr>\n",
       "                <td><strong>In 2 reaction(s)</strong></td><td>\n",
       "                    ASPK, ASAD</td>\n",
       "            </tr>\n",
       "        </table>"
      ],
      "text/plain": [
       "<Metabolite 4pasp_c at 0x7f1e5d38c278>"
      ]
     },
     "execution_count": 38,
     "metadata": {},
     "output_type": "execute_result"
    }
   ],
   "source": [
    "iMsOB3b.metabolites.get_by_id(\"4pasp_c\")"
   ]
  },
  {
   "cell_type": "markdown",
   "metadata": {},
   "source": [
    "## asd"
   ]
  },
  {
   "cell_type": "code",
   "execution_count": 17,
   "metadata": {
    "ExecuteTime": {
     "end_time": "2020-04-20T06:23:27.980350Z",
     "start_time": "2020-04-20T06:23:27.971361Z"
    }
   },
   "outputs": [
    {
     "name": "stdout",
     "output_type": "stream",
     "text": [
      "aspartate semialdehyde dehydrogenase ASAD: 4pasp_c + h_c + nadph_c <=> aspsa_c + nadp_c + pi_c\n"
     ]
    }
   ],
   "source": [
    "for reaction in iMsOB3b.reactions:\n",
    "    if re.search(\"aspartate semialdehyde dehydrogenase\", reaction.name):\n",
    "        print(reaction.name, reaction)"
   ]
  },
  {
   "cell_type": "code",
   "execution_count": 19,
   "metadata": {
    "ExecuteTime": {
     "end_time": "2020-04-20T06:25:55.408752Z",
     "start_time": "2020-04-20T06:25:55.404221Z"
    }
   },
   "outputs": [
    {
     "data": {
      "text/html": [
       "\n",
       "        <table>\n",
       "            <tr>\n",
       "                <td><strong>Metabolite identifier</strong></td><td>4pasp_c</td>\n",
       "            </tr><tr>\n",
       "                <td><strong>Name</strong></td><td>L_aspartyl_4_phosphate</td>\n",
       "            </tr><tr>\n",
       "                <td><strong>Memory address</strong></td>\n",
       "                <td>0x07f1e5d38c278</td>\n",
       "            </tr><tr>\n",
       "                <td><strong>Formula</strong></td><td>None</td>\n",
       "            </tr><tr>\n",
       "                <td><strong>Compartment</strong></td><td>c</td>\n",
       "            </tr><tr>\n",
       "                <td><strong>In 2 reaction(s)</strong></td><td>\n",
       "                    ASPK, ASAD</td>\n",
       "            </tr>\n",
       "        </table>"
      ],
      "text/plain": [
       "<Metabolite 4pasp_c at 0x7f1e5d38c278>"
      ]
     },
     "execution_count": 19,
     "metadata": {},
     "output_type": "execute_result"
    }
   ],
   "source": [
    "iMsOB3b.metabolites.get_by_id(\"4pasp_c\")"
   ]
  },
  {
   "cell_type": "markdown",
   "metadata": {},
   "source": [
    "## dapA"
   ]
  },
  {
   "cell_type": "code",
   "execution_count": 24,
   "metadata": {
    "ExecuteTime": {
     "end_time": "2020-04-20T06:31:14.087906Z",
     "start_time": "2020-04-20T06:31:14.079619Z"
    }
   },
   "outputs": [
    {
     "name": "stdout",
     "output_type": "stream",
     "text": [
      "dihydrodipicolinate synthase DHDPS: aspsa_c + pyr_c <=> 23dhdp_c + 2.0 h2o_c + h_c\n"
     ]
    }
   ],
   "source": [
    "for reaction in iMsOB3b.reactions:\n",
    "    if re.search(\"dihydrodipicolinate s\", reaction.name):\n",
    "        print(reaction.name, reaction)"
   ]
  },
  {
   "cell_type": "markdown",
   "metadata": {},
   "source": [
    "## dapB"
   ]
  },
  {
   "cell_type": "code",
   "execution_count": 25,
   "metadata": {
    "ExecuteTime": {
     "end_time": "2020-04-20T06:31:17.964925Z",
     "start_time": "2020-04-20T06:31:17.955195Z"
    }
   },
   "outputs": [
    {
     "name": "stdout",
     "output_type": "stream",
     "text": [
      "dihydrodipicolinate reductase DHDPRy: 23dhdp_c + h_c + nadph_c --> nadp_c + thdp_c\n"
     ]
    }
   ],
   "source": [
    "for reaction in iMsOB3b.reactions:\n",
    "    if re.search(\"dihydrodipicolinate r\", reaction.name):\n",
    "        print(reaction.name, reaction)"
   ]
  },
  {
   "cell_type": "markdown",
   "metadata": {},
   "source": [
    "## dapD, dapC, dapE\n",
    "### dapD"
   ]
  },
  {
   "cell_type": "code",
   "execution_count": 27,
   "metadata": {
    "ExecuteTime": {
     "end_time": "2020-04-20T06:32:46.620565Z",
     "start_time": "2020-04-20T06:32:46.613207Z"
    }
   },
   "outputs": [
    {
     "name": "stdout",
     "output_type": "stream",
     "text": [
      "N succinyl L diaminopimelate desuccinylase SDPDS: h2o_c + sl26da_c <=> 26dap_LL_c + succ_c\n"
     ]
    }
   ],
   "source": [
    "for reaction in iMsOB3b.reactions:\n",
    "    if re.search(\"succinylase\", reaction.name):\n",
    "        print(reaction.name, reaction)"
   ]
  },
  {
   "cell_type": "code",
   "execution_count": 28,
   "metadata": {
    "ExecuteTime": {
     "end_time": "2020-04-20T06:33:22.218584Z",
     "start_time": "2020-04-20T06:33:22.213750Z"
    }
   },
   "outputs": [
    {
     "data": {
      "text/html": [
       "\n",
       "        <table>\n",
       "            <tr>\n",
       "                <td><strong>Metabolite identifier</strong></td><td>thdp_c</td>\n",
       "            </tr><tr>\n",
       "                <td><strong>Name</strong></td><td>tetrahydrodipicolinate</td>\n",
       "            </tr><tr>\n",
       "                <td><strong>Memory address</strong></td>\n",
       "                <td>0x07f1e5d36bb00</td>\n",
       "            </tr><tr>\n",
       "                <td><strong>Formula</strong></td><td>None</td>\n",
       "            </tr><tr>\n",
       "                <td><strong>Compartment</strong></td><td>c</td>\n",
       "            </tr><tr>\n",
       "                <td><strong>In 2 reaction(s)</strong></td><td>\n",
       "                    THDPS, DHDPRy</td>\n",
       "            </tr>\n",
       "        </table>"
      ],
      "text/plain": [
       "<Metabolite thdp_c at 0x7f1e5d36bb00>"
      ]
     },
     "execution_count": 28,
     "metadata": {},
     "output_type": "execute_result"
    }
   ],
   "source": [
    "iMsOB3b.metabolites.get_by_id(\"thdp_c\")"
   ]
  },
  {
   "cell_type": "code",
   "execution_count": 29,
   "metadata": {
    "ExecuteTime": {
     "end_time": "2020-04-20T06:33:48.666904Z",
     "start_time": "2020-04-20T06:33:48.662564Z"
    }
   },
   "outputs": [
    {
     "data": {
      "text/html": [
       "\n",
       "        <table>\n",
       "            <tr>\n",
       "                <td><strong>Reaction identifier</strong></td><td>THDPS</td>\n",
       "            </tr><tr>\n",
       "                <td><strong>Name</strong></td><td>2 3 4 5 tetrahydropyridine 2 carboxylate N succinyltransferase</td>\n",
       "            </tr><tr>\n",
       "                <td><strong>Memory address</strong></td>\n",
       "                <td>0x07f1e5ccae780</td>\n",
       "            </tr><tr>\n",
       "                <td><strong>Stoichiometry</strong></td>\n",
       "                <td>\n",
       "                    <p style='text-align:right'>h2o_c + succoa_c + thdp_c <=> coa_c + sl2a6o_c</p>\n",
       "                    <p style='text-align:right'>H2O + succinyl_CoA + tetrahydrodipicolinate <=> CoA + N_succinyl_2_amino_6_ketopimelate</p>\n",
       "                </td>\n",
       "            </tr><tr>\n",
       "                <td><strong>GPR</strong></td><td>CQW49_16565</td>\n",
       "            </tr><tr>\n",
       "                <td><strong>Lower bound</strong></td><td>-1000.0</td>\n",
       "            </tr><tr>\n",
       "                <td><strong>Upper bound</strong></td><td>1000.0</td>\n",
       "            </tr>\n",
       "        </table>\n",
       "        "
      ],
      "text/plain": [
       "<Reaction THDPS at 0x7f1e5ccae780>"
      ]
     },
     "execution_count": 29,
     "metadata": {},
     "output_type": "execute_result"
    }
   ],
   "source": [
    "iMsOB3b.reactions.THDPS"
   ]
  },
  {
   "cell_type": "markdown",
   "metadata": {},
   "source": [
    "### dapC"
   ]
  },
  {
   "cell_type": "code",
   "execution_count": 31,
   "metadata": {
    "ExecuteTime": {
     "end_time": "2020-04-20T06:36:56.619214Z",
     "start_time": "2020-04-20T06:36:56.611764Z"
    }
   },
   "outputs": [
    {
     "name": "stdout",
     "output_type": "stream",
     "text": [
      "N succinyldiaminopimelate aminotransferase SDPTA: glu_L_c + sl2a6o_c <=> akg_c + sl26da_c\n"
     ]
    }
   ],
   "source": [
    "for reaction in iMsOB3b.reactions:\n",
    "    if re.search(\"N succinyldiaminopimelate aminotransferase\", reaction.name):\n",
    "        print(reaction.name, reaction)"
   ]
  },
  {
   "cell_type": "code",
   "execution_count": 32,
   "metadata": {
    "ExecuteTime": {
     "end_time": "2020-04-20T06:37:15.288201Z",
     "start_time": "2020-04-20T06:37:15.282444Z"
    }
   },
   "outputs": [
    {
     "data": {
      "text/html": [
       "\n",
       "        <table>\n",
       "            <tr>\n",
       "                <td><strong>Metabolite identifier</strong></td><td>sl2a6o_c</td>\n",
       "            </tr><tr>\n",
       "                <td><strong>Name</strong></td><td>N_succinyl_2_amino_6_ketopimelate</td>\n",
       "            </tr><tr>\n",
       "                <td><strong>Memory address</strong></td>\n",
       "                <td>0x07f1e5d2fe0b8</td>\n",
       "            </tr><tr>\n",
       "                <td><strong>Formula</strong></td><td>None</td>\n",
       "            </tr><tr>\n",
       "                <td><strong>Compartment</strong></td><td>c</td>\n",
       "            </tr><tr>\n",
       "                <td><strong>In 2 reaction(s)</strong></td><td>\n",
       "                    THDPS, SDPTA</td>\n",
       "            </tr>\n",
       "        </table>"
      ],
      "text/plain": [
       "<Metabolite sl2a6o_c at 0x7f1e5d2fe0b8>"
      ]
     },
     "execution_count": 32,
     "metadata": {},
     "output_type": "execute_result"
    }
   ],
   "source": [
    "iMsOB3b.metabolites.sl2a6o_c"
   ]
  },
  {
   "cell_type": "markdown",
   "metadata": {},
   "source": [
    "### dapE"
   ]
  },
  {
   "cell_type": "code",
   "execution_count": 33,
   "metadata": {
    "ExecuteTime": {
     "end_time": "2020-04-20T06:38:41.292277Z",
     "start_time": "2020-04-20T06:38:41.285345Z"
    }
   },
   "outputs": [
    {
     "name": "stdout",
     "output_type": "stream",
     "text": [
      "N succinyl L diaminopimelate desuccinylase SDPDS: h2o_c + sl26da_c <=> 26dap_LL_c + succ_c\n"
     ]
    }
   ],
   "source": [
    "for reaction in iMsOB3b.reactions:\n",
    "    if re.search(\"desuccinylase\", reaction.name):\n",
    "        print(reaction.name, reaction)"
   ]
  },
  {
   "cell_type": "code",
   "execution_count": 34,
   "metadata": {
    "ExecuteTime": {
     "end_time": "2020-04-20T06:39:07.885879Z",
     "start_time": "2020-04-20T06:39:07.880023Z"
    }
   },
   "outputs": [
    {
     "data": {
      "text/html": [
       "\n",
       "        <table>\n",
       "            <tr>\n",
       "                <td><strong>Metabolite identifier</strong></td><td>sl26da_c</td>\n",
       "            </tr><tr>\n",
       "                <td><strong>Name</strong></td><td>N_succinyl_L_L_2_6_diaminopimelate</td>\n",
       "            </tr><tr>\n",
       "                <td><strong>Memory address</strong></td>\n",
       "                <td>0x07f1e5d38cd68</td>\n",
       "            </tr><tr>\n",
       "                <td><strong>Formula</strong></td><td>None</td>\n",
       "            </tr><tr>\n",
       "                <td><strong>Compartment</strong></td><td>c</td>\n",
       "            </tr><tr>\n",
       "                <td><strong>In 2 reaction(s)</strong></td><td>\n",
       "                    SDPDS, SDPTA</td>\n",
       "            </tr>\n",
       "        </table>"
      ],
      "text/plain": [
       "<Metabolite sl26da_c at 0x7f1e5d38cd68>"
      ]
     },
     "execution_count": 34,
     "metadata": {},
     "output_type": "execute_result"
    }
   ],
   "source": [
    "iMsOB3b.metabolites.sl26da_c"
   ]
  },
  {
   "cell_type": "markdown",
   "metadata": {},
   "source": [
    "## dapF"
   ]
  },
  {
   "cell_type": "code",
   "execution_count": 36,
   "metadata": {
    "ExecuteTime": {
     "end_time": "2020-04-20T06:40:34.366840Z",
     "start_time": "2020-04-20T06:40:34.359255Z"
    }
   },
   "outputs": [
    {
     "name": "stdout",
     "output_type": "stream",
     "text": [
      "diaminopimelate epimerase DAPE: 26dap_LL_c <=> 26dap_M_c\n"
     ]
    }
   ],
   "source": [
    "for reaction in iMsOB3b.reactions:\n",
    "    if re.search(\"diaminopimelate e\", reaction.name):\n",
    "        print(reaction.name, reaction)"
   ]
  },
  {
   "cell_type": "code",
   "execution_count": 37,
   "metadata": {
    "ExecuteTime": {
     "end_time": "2020-04-20T06:40:54.177990Z",
     "start_time": "2020-04-20T06:40:54.172422Z"
    }
   },
   "outputs": [
    {
     "data": {
      "text/html": [
       "\n",
       "        <table>\n",
       "            <tr>\n",
       "                <td><strong>Metabolite identifier</strong></td><td>26dap_LL_c</td>\n",
       "            </tr><tr>\n",
       "                <td><strong>Name</strong></td><td>LL_2_6_diaminoheptanedioate</td>\n",
       "            </tr><tr>\n",
       "                <td><strong>Memory address</strong></td>\n",
       "                <td>0x07f1e5d31c320</td>\n",
       "            </tr><tr>\n",
       "                <td><strong>Formula</strong></td><td>None</td>\n",
       "            </tr><tr>\n",
       "                <td><strong>Compartment</strong></td><td>c</td>\n",
       "            </tr><tr>\n",
       "                <td><strong>In 2 reaction(s)</strong></td><td>\n",
       "                    SDPDS, DAPE</td>\n",
       "            </tr>\n",
       "        </table>"
      ],
      "text/plain": [
       "<Metabolite 26dap_LL_c at 0x7f1e5d31c320>"
      ]
     },
     "execution_count": 37,
     "metadata": {},
     "output_type": "execute_result"
    }
   ],
   "source": [
    "iMsOB3b.metabolites.get_by_id(\"26dap_LL_c\")"
   ]
  },
  {
   "cell_type": "markdown",
   "metadata": {},
   "source": [
    "## lysA"
   ]
  },
  {
   "cell_type": "code",
   "execution_count": 40,
   "metadata": {
    "ExecuteTime": {
     "end_time": "2020-04-20T06:44:50.157927Z",
     "start_time": "2020-04-20T06:44:50.148133Z"
    }
   },
   "outputs": [
    {
     "name": "stdout",
     "output_type": "stream",
     "text": [
      "N succinyl L diaminopimelate desuccinylase SDPDS: h2o_c + sl26da_c <=> 26dap_LL_c + succ_c\n",
      "diaminopimelate decarboxylase DAPDC: 26dap_M_c + h_c --> co2_c + lys_L_c\n"
     ]
    }
   ],
   "source": [
    "for reaction in iMsOB3b.reactions:\n",
    "    if re.search(\"diaminopimelate d\", reaction.name):\n",
    "        print(reaction.name, reaction)"
   ]
  },
  {
   "cell_type": "code",
   "execution_count": 41,
   "metadata": {
    "ExecuteTime": {
     "end_time": "2020-04-20T06:45:19.026484Z",
     "start_time": "2020-04-20T06:45:19.020113Z"
    }
   },
   "outputs": [
    {
     "data": {
      "text/html": [
       "\n",
       "        <table>\n",
       "            <tr>\n",
       "                <td><strong>Metabolite identifier</strong></td><td>26dap_M_c</td>\n",
       "            </tr><tr>\n",
       "                <td><strong>Name</strong></td><td>meso_diaminoheptanedioate</td>\n",
       "            </tr><tr>\n",
       "                <td><strong>Memory address</strong></td>\n",
       "                <td>0x07f1e5d3b9278</td>\n",
       "            </tr><tr>\n",
       "                <td><strong>Formula</strong></td><td>None</td>\n",
       "            </tr><tr>\n",
       "                <td><strong>Compartment</strong></td><td>c</td>\n",
       "            </tr><tr>\n",
       "                <td><strong>In 3 reaction(s)</strong></td><td>\n",
       "                    DAPDC, UAAGDS, DAPE</td>\n",
       "            </tr>\n",
       "        </table>"
      ],
      "text/plain": [
       "<Metabolite 26dap_M_c at 0x7f1e5d3b9278>"
      ]
     },
     "execution_count": 41,
     "metadata": {},
     "output_type": "execute_result"
    }
   ],
   "source": [
    "iMsOB3b.metabolites.get_by_id(\"26dap_M_c\")"
   ]
  },
  {
   "cell_type": "code",
   "execution_count": 43,
   "metadata": {
    "ExecuteTime": {
     "end_time": "2020-04-20T06:46:14.294555Z",
     "start_time": "2020-04-20T06:46:14.290488Z"
    }
   },
   "outputs": [
    {
     "data": {
      "text/html": [
       "\n",
       "        <table>\n",
       "            <tr>\n",
       "                <td><strong>Reaction identifier</strong></td><td>UAAGDS</td>\n",
       "            </tr><tr>\n",
       "                <td><strong>Name</strong></td><td>UDP N acetylmuramoylalanyl D glutamate 2 6 diaminopimelate ligase</td>\n",
       "            </tr><tr>\n",
       "                <td><strong>Memory address</strong></td>\n",
       "                <td>0x07f1e5cfc6a58</td>\n",
       "            </tr><tr>\n",
       "                <td><strong>Stoichiometry</strong></td>\n",
       "                <td>\n",
       "                    <p style='text-align:right'>26dap_M_c + atp_c + uamag_c --> adp_c + h_c + pi_c + ugmd_c</p>\n",
       "                    <p style='text-align:right'>meso_diaminoheptanedioate + ATP + UDP_N_acetylmuramoyl_L_alanyl_D_glutamate --> ADP + H_ + phosphate + UDP_N_acetylmuramoyl_L_alanyl_D_glutamyl_meso_2_6_diaminopimelate</p>\n",
       "                </td>\n",
       "            </tr><tr>\n",
       "                <td><strong>GPR</strong></td><td>CQW49_11205</td>\n",
       "            </tr><tr>\n",
       "                <td><strong>Lower bound</strong></td><td>0.0</td>\n",
       "            </tr><tr>\n",
       "                <td><strong>Upper bound</strong></td><td>1000.0</td>\n",
       "            </tr>\n",
       "        </table>\n",
       "        "
      ],
      "text/plain": [
       "<Reaction UAAGDS at 0x7f1e5cfc6a58>"
      ]
     },
     "execution_count": 43,
     "metadata": {},
     "output_type": "execute_result"
    }
   ],
   "source": [
    "iMsOB3b.reactions.UAAGDS"
   ]
  },
  {
   "cell_type": "code",
   "execution_count": 44,
   "metadata": {
    "ExecuteTime": {
     "end_time": "2020-04-20T06:46:25.660079Z",
     "start_time": "2020-04-20T06:46:25.651983Z"
    }
   },
   "outputs": [
    {
     "data": {
      "text/html": [
       "\n",
       "        <table>\n",
       "            <tr>\n",
       "                <td><strong>Reaction identifier</strong></td><td>DAPE</td>\n",
       "            </tr><tr>\n",
       "                <td><strong>Name</strong></td><td>diaminopimelate epimerase</td>\n",
       "            </tr><tr>\n",
       "                <td><strong>Memory address</strong></td>\n",
       "                <td>0x07f1e5cea4b70</td>\n",
       "            </tr><tr>\n",
       "                <td><strong>Stoichiometry</strong></td>\n",
       "                <td>\n",
       "                    <p style='text-align:right'>26dap_LL_c <=> 26dap_M_c</p>\n",
       "                    <p style='text-align:right'>LL_2_6_diaminoheptanedioate <=> meso_diaminoheptanedioate</p>\n",
       "                </td>\n",
       "            </tr><tr>\n",
       "                <td><strong>GPR</strong></td><td>CQW49_00230</td>\n",
       "            </tr><tr>\n",
       "                <td><strong>Lower bound</strong></td><td>-1000.0</td>\n",
       "            </tr><tr>\n",
       "                <td><strong>Upper bound</strong></td><td>1000.0</td>\n",
       "            </tr>\n",
       "        </table>\n",
       "        "
      ],
      "text/plain": [
       "<Reaction DAPE at 0x7f1e5cea4b70>"
      ]
     },
     "execution_count": 44,
     "metadata": {},
     "output_type": "execute_result"
    }
   ],
   "source": [
    "iMsOB3b.reactions.DAPE"
   ]
  },
  {
   "cell_type": "markdown",
   "metadata": {},
   "source": [
    "Any alternative pathway for lysine consumption?"
   ]
  },
  {
   "cell_type": "code",
   "execution_count": 46,
   "metadata": {
    "ExecuteTime": {
     "end_time": "2020-04-20T06:55:55.624411Z",
     "start_time": "2020-04-20T06:55:55.617023Z"
    }
   },
   "outputs": [
    {
     "data": {
      "text/html": [
       "\n",
       "        <table>\n",
       "            <tr>\n",
       "                <td><strong>Metabolite identifier</strong></td><td>lys_L_c</td>\n",
       "            </tr><tr>\n",
       "                <td><strong>Name</strong></td><td>L_lysine</td>\n",
       "            </tr><tr>\n",
       "                <td><strong>Memory address</strong></td>\n",
       "                <td>0x07f1e5d3ca908</td>\n",
       "            </tr><tr>\n",
       "                <td><strong>Formula</strong></td><td>None</td>\n",
       "            </tr><tr>\n",
       "                <td><strong>Compartment</strong></td><td>c</td>\n",
       "            </tr><tr>\n",
       "                <td><strong>In 2 reaction(s)</strong></td><td>\n",
       "                    DAPDC, LYSTRS</td>\n",
       "            </tr>\n",
       "        </table>"
      ],
      "text/plain": [
       "<Metabolite lys_L_c at 0x7f1e5d3ca908>"
      ]
     },
     "execution_count": 46,
     "metadata": {},
     "output_type": "execute_result"
    }
   ],
   "source": [
    "iMsOB3b.metabolites.get_by_id(\"lys_L_c\")"
   ]
  },
  {
   "cell_type": "markdown",
   "metadata": {},
   "source": [
    "This reaction goes to biomass equation:"
   ]
  },
  {
   "cell_type": "code",
   "execution_count": 47,
   "metadata": {
    "ExecuteTime": {
     "end_time": "2020-04-20T07:21:15.641058Z",
     "start_time": "2020-04-20T07:21:15.634823Z"
    }
   },
   "outputs": [
    {
     "data": {
      "text/html": [
       "\n",
       "        <table>\n",
       "            <tr>\n",
       "                <td><strong>Reaction identifier</strong></td><td>LYSTRS</td>\n",
       "            </tr><tr>\n",
       "                <td><strong>Name</strong></td><td>lysyl tRNA synthetase</td>\n",
       "            </tr><tr>\n",
       "                <td><strong>Memory address</strong></td>\n",
       "                <td>0x07f1e5d1390b8</td>\n",
       "            </tr><tr>\n",
       "                <td><strong>Stoichiometry</strong></td>\n",
       "                <td>\n",
       "                    <p style='text-align:right'>atp_c + lys_L_c + trnalys_c --> amp_c + lystrna_c + ppi_c</p>\n",
       "                    <p style='text-align:right'>ATP + L_lysine + tRNA_Lys_ --> AMP + L_lysyl_tRNA_Lys_ + diphosphate</p>\n",
       "                </td>\n",
       "            </tr><tr>\n",
       "                <td><strong>GPR</strong></td><td>META1_3184</td>\n",
       "            </tr><tr>\n",
       "                <td><strong>Lower bound</strong></td><td>0.0</td>\n",
       "            </tr><tr>\n",
       "                <td><strong>Upper bound</strong></td><td>1000.0</td>\n",
       "            </tr>\n",
       "        </table>\n",
       "        "
      ],
      "text/plain": [
       "<Reaction LYSTRS at 0x7f1e5d1390b8>"
      ]
     },
     "execution_count": 47,
     "metadata": {},
     "output_type": "execute_result"
    }
   ],
   "source": [
    "iMsOB3b.reactions.LYSTRS"
   ]
  },
  {
   "cell_type": "markdown",
   "metadata": {},
   "source": [
    "## ldcC (cadA) -->absent\n",
    "L-lysine decarboxylase"
   ]
  },
  {
   "cell_type": "code",
   "execution_count": 56,
   "metadata": {
    "ExecuteTime": {
     "end_time": "2020-04-20T07:26:21.233558Z",
     "start_time": "2020-04-20T07:26:21.216318Z"
    }
   },
   "outputs": [
    {
     "name": "stdout",
     "output_type": "stream",
     "text": [
      "lysophospholipase C2  n 16 1  LPLIPAL2C161: 2agpc161_c + h2o_c --> g3pc_c + h_c + hdcea_c\n",
      "lysyl tRNA synthetase LYSTRS: atp_c + lys_L_c + trnalys_c --> amp_c + lystrna_c + ppi_c\n",
      "lysophospholipase C2  n 18 1  LPLIPAL2C181: 2agpc181_c + h2o_c --> g3pc_c + h_c + ocdcea_c\n",
      "lysophospholipase C2  n 18 0  LPLIPAL2C180: 2agpc180_c + h2o_c --> g3pc_c + h_c + ocdca_c\n",
      "lysophospholipase E1  n 18 1  LPLIPAL1E181: 1agpe181_c + h2o_c --> g3pe_c + h_c + ocdcea_c\n",
      "lysophospholipase E1  n 16 0  LPLIPAL1E160: 1agpe160_c + h2o_c --> g3pe_c + h_c + hdca_c\n",
      "lysophospholipase E1  n 16 1  LPLIPAL1E161: 1agpe161_c + h2o_c --> g3pe_c + h_c + hdcea_c\n",
      "lysophospholipase C2  n 16 0  LPLIP2AGPC160: 2agpc160_c + h2o_c --> g3pc_c + h_c + hdca_c\n",
      "lysophospholipase C1  n 16 0  LPLIP1AGPC160: 1agpc160_c + h2o_c --> g3pc_c + h_c + hdca_c\n",
      "lysophosphatidic acid acyltransferase  n 16 1  AGPAT161: 1hdec9eg3p_c + hdeACP_c --> ACP_c + pa161_c\n",
      "lysophosphatidic acid acyltransferase  n 16 0  AGPAT160: 1hdecg3p_c + palmACP_c --> ACP_c + pa160_c\n",
      "lysophosphatidic acid acyltransferase  n 18 0  AGPAT180: 1odecg3p_c + ocdcaACP_c --> ACP_c + pa180_c\n",
      "lysophosphatidic acid acyltransferase  n 18 1  AGPAT181: 1odec11eg3p_c + octeACP_c --> ACP_c + pa181_c\n",
      "formyl MFS hydrolysis FORMMFRHD: formmfr_b__c + h2o_c --> for_c + mfr_b__c\n",
      "lysophospholipase C1  n 18 0  LPLIPAL1C180: 1agpc180_c + h2o_c --> g3pc_c + h_c + ocdca_c\n",
      "lysophospholipase C1  n 18 1  LPLIPAL1C181: 1agpc181_c + h2o_c --> g3pc_c + h_c + ocdcea_c\n",
      "lysophospholipase C1  n 16 1  LPLIPAL1C161: 1agpc161_c + h2o_c --> g3pc_c + h_c + hdcea_c\n",
      "lysophospholipase E1  n 18 0  LPLIPAL2E180: 1agpe180_c + h2o_c --> g3pe_c + h_c + ocdca_c\n",
      "lysophospholipase E2  n 18 1  LPLIPAL2E181: 2agpe181_c + h2o_c --> g3pe_c + h_c + ocdcea_c\n",
      "lysophospholipase E2  n 16 0  LPLIPAL2E160: 2agpe160_c + h2o_c --> g3pe_c + h_c + hdca_c\n",
      "lysophospholipase E2  n 16 1  LPLIPAL2E161: 2agpe161_c + h2o_c --> g3pe_c + h_c + hdcea_c\n"
     ]
    }
   ],
   "source": [
    "for reaction in iMsOB3b.reactions:\n",
    "    if re.search(\"lys\", reaction.name):\n",
    "        print(reaction.name, reaction)"
   ]
  },
  {
   "cell_type": "markdown",
   "metadata": {
    "ExecuteTime": {
     "end_time": "2020-04-20T07:26:55.499931Z",
     "start_time": "2020-04-20T07:26:55.493012Z"
    }
   },
   "source": [
    "## cadB --> absent"
   ]
  },
  {
   "cell_type": "code",
   "execution_count": 61,
   "metadata": {
    "ExecuteTime": {
     "end_time": "2020-04-20T07:27:32.757322Z",
     "start_time": "2020-04-20T07:27:32.747444Z"
    }
   },
   "outputs": [],
   "source": [
    "for reaction in iMsOB3b.reactions:\n",
    "    if re.search(\"cadave\", reaction.name):\n",
    "        print(reaction.name, reaction)"
   ]
  },
  {
   "cell_type": "markdown",
   "metadata": {},
   "source": [
    "## PYC"
   ]
  },
  {
   "cell_type": "code",
   "execution_count": 62,
   "metadata": {
    "ExecuteTime": {
     "end_time": "2020-04-20T07:46:39.641276Z",
     "start_time": "2020-04-20T07:46:39.631138Z"
    }
   },
   "outputs": [
    {
     "name": "stdout",
     "output_type": "stream",
     "text": [
      "exchange flux   pyruvate EX_pyr_e: pyr_e --> \n",
      "pyruvate transport via diffusion  extracellular to periplasm  PYRtex: pyr_e <=> pyr_p\n",
      "pyruvate phosphate dikinase PPDK: atp_c + pi_c + pyr_c --> amp_c + h_c + pep_c + ppi_c\n",
      "pyruvate kinase PYK: atp_c + pyr_c <=> adp_c + h_c + pep_c\n",
      "3 mercaptopyruvate sulfurtransferase MCPST: cyan_c + mercppyr_c --> h_c + pyr_c + tcynt_c\n",
      "phosphoenolpyruvate carboxylase PPC: co2_c + h2o_c + pep_c --> h_c + oaa_c + pi_c\n",
      "pyruvate symport  periplasm to cytoplasm  PYRt2rpp: h_p + pyr_p --> h_c + pyr_c\n",
      "pyruvate dehydrogenase PDH: coa_c + nad_c + pyr_c --> accoab_c + co2_c + nadh_c\n",
      "hydroxypyruvate reductase GLYD: h_c + hpyr_c + nadh_c <=> glyc_R_c + nad_c\n",
      "Phosphoenolpyruvate synthase PPS: atp_c + h2o_c + pyr_c --> amp_c + 2.0 h_c + pep_c + pi_c\n",
      "4 Hydroxyphenylpyruvateoxygen oxidoreductase 34HPPOR: 34hpp_c + o2_c --> co2_c + hgentis_c\n"
     ]
    }
   ],
   "source": [
    "for reaction in iMsOB3b.reactions:\n",
    "    if re.search(\"pyruvate\", reaction.name):\n",
    "        print(reaction.name, reaction)"
   ]
  }
 ],
 "metadata": {
  "kernelspec": {
   "display_name": "Python [conda env:GEM_py36]",
   "language": "python",
   "name": "conda-env-GEM_py36-py"
  },
  "language_info": {
   "codemirror_mode": {
    "name": "ipython",
    "version": 3
   },
   "file_extension": ".py",
   "mimetype": "text/x-python",
   "name": "python",
   "nbconvert_exporter": "python",
   "pygments_lexer": "ipython3",
   "version": "3.6.9"
  },
  "toc": {
   "base_numbering": 1,
   "nav_menu": {},
   "number_sections": true,
   "sideBar": true,
   "skip_h1_title": false,
   "title_cell": "Table of Contents",
   "title_sidebar": "Contents",
   "toc_cell": false,
   "toc_position": {
    "height": "calc(100% - 180px)",
    "left": "10px",
    "top": "150px",
    "width": "384px"
   },
   "toc_section_display": true,
   "toc_window_display": true
  },
  "varInspector": {
   "cols": {
    "lenName": 16,
    "lenType": 16,
    "lenVar": 40
   },
   "kernels_config": {
    "python": {
     "delete_cmd_postfix": "",
     "delete_cmd_prefix": "del ",
     "library": "var_list.py",
     "varRefreshCmd": "print(var_dic_list())"
    },
    "r": {
     "delete_cmd_postfix": ") ",
     "delete_cmd_prefix": "rm(",
     "library": "var_list.r",
     "varRefreshCmd": "cat(var_dic_list()) "
    }
   },
   "position": {
    "height": "298.85px",
    "left": "1550px",
    "right": "20px",
    "top": "120px",
    "width": "350px"
   },
   "types_to_exclude": [
    "module",
    "function",
    "builtin_function_or_method",
    "instance",
    "_Feature"
   ],
   "window_display": true
  }
 },
 "nbformat": 4,
 "nbformat_minor": 2
}
