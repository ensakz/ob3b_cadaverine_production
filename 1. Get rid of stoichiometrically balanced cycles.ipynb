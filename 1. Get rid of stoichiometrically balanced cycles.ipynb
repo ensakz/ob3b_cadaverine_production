{
 "cells": [
  {
   "cell_type": "markdown",
   "metadata": {
    "hideCode": false,
    "hidePrompt": false
   },
   "source": [
    "# Load dependencies"
   ]
  },
  {
   "cell_type": "code",
   "execution_count": 48,
   "metadata": {
    "ExecuteTime": {
     "end_time": "2020-05-04T05:09:27.042524Z",
     "start_time": "2020-05-04T05:09:27.038914Z"
    },
    "hideCode": false,
    "hidePrompt": false
   },
   "outputs": [],
   "source": [
    "import cobra\n",
    "import libsbml\n",
    "import lxml\n",
    "\n",
    "cadaverine_directory = '/media/sf_Shared/Projects/Cadaverine_production/'\n",
    "models_directory = '/media/sf_Shared/Systems_biology/Metabolic_models/'"
   ]
  },
  {
   "cell_type": "code",
   "execution_count": 49,
   "metadata": {
    "ExecuteTime": {
     "end_time": "2020-05-04T05:09:28.389253Z",
     "start_time": "2020-05-04T05:09:27.305563Z"
    }
   },
   "outputs": [],
   "source": [
    "iMsOB3b_original = cobra.io.load_json_model(models_directory + \"iMsOB3b.json\")"
   ]
  },
  {
   "cell_type": "markdown",
   "metadata": {},
   "source": [
    "According to memote report from https://github.com/ensakz/gem_methylosinus_trichosporium there are 17 reactions that participate in stoichiometrically balanced cycles in Methylosinus trichosporium OB3b genome-scale model as of 28/04/2020. \n",
    "\n",
    "Here is the list of reaction ids that participate in stoichiometrically balanced cycles:\n",
    "\n",
    "[\"ADK1\",\"CCR\",\"P5CR\",\"3HBCDH\",\"PPDK\",\"PROD2\",\"PYK\",\"TMDS\",\"DHFR\",\"3HBCD\",\"AACOAR\",\n",
    "\"ECOAH1\",\"ACOAD1f\",\"HACYLCOAEPI40\",\"PFK_ppi\",\"PFK\",\"TMDS3\"] "
   ]
  },
  {
   "cell_type": "markdown",
   "metadata": {
    "ExecuteTime": {
     "end_time": "2020-04-28T06:42:37.760365Z",
     "start_time": "2020-04-28T06:42:37.757135Z"
    }
   },
   "source": [
    "# Get rid of stoichiometrically balanced cycles:\n",
    "This is required to get rid of unrealistically high fluxes in MCMC sampling."
   ]
  },
  {
   "cell_type": "markdown",
   "metadata": {},
   "source": [
    "## PFK/PFK_ppi"
   ]
  },
  {
   "cell_type": "markdown",
   "metadata": {},
   "source": [
    "NO3 medium FVA:"
   ]
  },
  {
   "cell_type": "code",
   "execution_count": 70,
   "metadata": {
    "ExecuteTime": {
     "end_time": "2020-04-27T07:15:31.352417Z",
     "start_time": "2020-04-27T07:15:30.128463Z"
    }
   },
   "outputs": [
    {
     "name": "stdout",
     "output_type": "stream",
     "text": [
      "minimum   -1000.000000\n",
      "maximum       7.434656\n",
      "Name: PFK, dtype: float64\n",
      "minimum      -7.654998\n",
      "maximum    1000.000000\n",
      "Name: PFK_ppi, dtype: float64\n"
     ]
    }
   ],
   "source": [
    "with iMsOB3b_original as model:\n",
    "    from cobra.flux_analysis import flux_variability_analysis\n",
    "    FVA = flux_variability_analysis(model, model.reactions)\n",
    "    print(FVA.loc[\"PFK\"])\n",
    "    print(FVA.loc[\"PFK_ppi\"])"
   ]
  },
  {
   "cell_type": "markdown",
   "metadata": {},
   "source": [
    "NH4 medium FVA:"
   ]
  },
  {
   "cell_type": "code",
   "execution_count": 71,
   "metadata": {
    "ExecuteTime": {
     "end_time": "2020-04-27T07:15:32.325593Z",
     "start_time": "2020-04-27T07:15:31.372579Z"
    }
   },
   "outputs": [
    {
     "name": "stdout",
     "output_type": "stream",
     "text": [
      "minimum      0.000000\n",
      "maximum    998.191112\n",
      "Name: PPDK, dtype: float64\n",
      "minimum   -1000.000000\n",
      "maximum      -1.808888\n",
      "Name: PYK, dtype: float64\n"
     ]
    }
   ],
   "source": [
    "with iMsOB3b_original as model:\n",
    "    model.reactions.EX_no3_e.bounds = (0, 0)\n",
    "    model.reactions.EX_nh4_e.bounds = (-1000, 0)\n",
    "    from cobra.flux_analysis import flux_variability_analysis\n",
    "    FVA = flux_variability_analysis(model, model.reactions)\n",
    "    print(FVA.loc[\"PPDK\"])\n",
    "    print(FVA.loc[\"PYK\"])"
   ]
  },
  {
   "cell_type": "markdown",
   "metadata": {},
   "source": [
    "Inspect reactions:"
   ]
  },
  {
   "cell_type": "code",
   "execution_count": 73,
   "metadata": {
    "ExecuteTime": {
     "end_time": "2020-04-27T07:15:43.562714Z",
     "start_time": "2020-04-27T07:15:43.548793Z"
    }
   },
   "outputs": [
    {
     "data": {
      "text/html": [
       "\n",
       "        <table>\n",
       "            <tr>\n",
       "                <td><strong>Reaction identifier</strong></td><td>PFK</td>\n",
       "            </tr><tr>\n",
       "                <td><strong>Name</strong></td><td>Phosphofructokinase</td>\n",
       "            </tr><tr>\n",
       "                <td><strong>Memory address</strong></td>\n",
       "                <td>0x07f5b8b2f4eb8</td>\n",
       "            </tr><tr>\n",
       "                <td><strong>Stoichiometry</strong></td>\n",
       "                <td>\n",
       "                    <p style='text-align:right'>atp_c + f6p_c <=> adp_c + fdp_c + h_c</p>\n",
       "                    <p style='text-align:right'>ATP + D_fructose_6_phosphate <=> ADP + D_fructose_1_6_bisphosphate + H_</p>\n",
       "                </td>\n",
       "            </tr><tr>\n",
       "                <td><strong>GPR</strong></td><td></td>\n",
       "            </tr><tr>\n",
       "                <td><strong>Lower bound</strong></td><td>-1000</td>\n",
       "            </tr><tr>\n",
       "                <td><strong>Upper bound</strong></td><td>1000</td>\n",
       "            </tr>\n",
       "        </table>\n",
       "        "
      ],
      "text/plain": [
       "<Reaction PFK at 0x7f5b8b2f4eb8>"
      ]
     },
     "execution_count": 73,
     "metadata": {},
     "output_type": "execute_result"
    }
   ],
   "source": [
    "iMsOB3b_original.reactions.PFK"
   ]
  },
  {
   "cell_type": "code",
   "execution_count": 74,
   "metadata": {
    "ExecuteTime": {
     "end_time": "2020-04-27T07:15:46.896493Z",
     "start_time": "2020-04-27T07:15:46.891816Z"
    }
   },
   "outputs": [
    {
     "data": {
      "text/html": [
       "\n",
       "        <table>\n",
       "            <tr>\n",
       "                <td><strong>Reaction identifier</strong></td><td>PFK_ppi</td>\n",
       "            </tr><tr>\n",
       "                <td><strong>Name</strong></td><td>Phosphofructokinase (ppi-dependent</td>\n",
       "            </tr><tr>\n",
       "                <td><strong>Memory address</strong></td>\n",
       "                <td>0x07f5b8b21c1d0</td>\n",
       "            </tr><tr>\n",
       "                <td><strong>Stoichiometry</strong></td>\n",
       "                <td>\n",
       "                    <p style='text-align:right'>f6p_c + ppi_c <=> fdp_c + h_c + pi_c</p>\n",
       "                    <p style='text-align:right'>D_fructose_6_phosphate + diphosphate <=> D_fructose_1_6_bisphosphate + H_ + phosphate</p>\n",
       "                </td>\n",
       "            </tr><tr>\n",
       "                <td><strong>GPR</strong></td><td>CQW49_16115</td>\n",
       "            </tr><tr>\n",
       "                <td><strong>Lower bound</strong></td><td>-1000.0</td>\n",
       "            </tr><tr>\n",
       "                <td><strong>Upper bound</strong></td><td>1000.0</td>\n",
       "            </tr>\n",
       "        </table>\n",
       "        "
      ],
      "text/plain": [
       "<Reaction PFK_ppi at 0x7f5b8b21c1d0>"
      ]
     },
     "execution_count": 74,
     "metadata": {},
     "output_type": "execute_result"
    }
   ],
   "source": [
    "iMsOB3b_original.reactions.PFK_ppi"
   ]
  },
  {
   "cell_type": "markdown",
   "metadata": {},
   "source": [
    "Manipulate reactions:"
   ]
  },
  {
   "cell_type": "code",
   "execution_count": 75,
   "metadata": {
    "ExecuteTime": {
     "end_time": "2020-04-27T07:15:59.311370Z",
     "start_time": "2020-04-27T07:15:59.305118Z"
    }
   },
   "outputs": [],
   "source": [
    "iMsOB3b_original.reactions.PFK.knock_out()"
   ]
  },
  {
   "cell_type": "markdown",
   "metadata": {},
   "source": [
    "NO3 medium FVA:"
   ]
  },
  {
   "cell_type": "code",
   "execution_count": 99,
   "metadata": {
    "ExecuteTime": {
     "end_time": "2020-04-27T07:32:04.070820Z",
     "start_time": "2020-04-27T07:32:03.133169Z"
    }
   },
   "outputs": [
    {
     "name": "stdout",
     "output_type": "stream",
     "text": [
      "minimum    0.0\n",
      "maximum    0.0\n",
      "Name: PFK, dtype: float64\n",
      "minimum   -0.220342\n",
      "maximum    8.491860\n",
      "Name: PFK_ppi, dtype: float64\n"
     ]
    }
   ],
   "source": [
    "with iMsOB3b_original as model:\n",
    "    from cobra.flux_analysis import flux_variability_analysis\n",
    "    FVA = flux_variability_analysis(model, model.reactions)\n",
    "    print(FVA.loc[\"PFK\"])\n",
    "    print(FVA.loc[\"PFK_ppi\"])"
   ]
  },
  {
   "cell_type": "markdown",
   "metadata": {},
   "source": [
    "NH4 medium FVA:"
   ]
  },
  {
   "cell_type": "code",
   "execution_count": 100,
   "metadata": {
    "ExecuteTime": {
     "end_time": "2020-04-27T07:32:05.822094Z",
     "start_time": "2020-04-27T07:32:05.046533Z"
    }
   },
   "outputs": [
    {
     "name": "stdout",
     "output_type": "stream",
     "text": [
      "minimum    0.000000e+00\n",
      "maximum   -3.019732e-12\n",
      "Name: PPDK, dtype: float64\n",
      "minimum   -1.752756\n",
      "maximum   -1.752756\n",
      "Name: PYK, dtype: float64\n"
     ]
    }
   ],
   "source": [
    "with iMsOB3b_original as model:\n",
    "    model.reactions.EX_no3_e.bounds = (0, 0)\n",
    "    model.reactions.EX_nh4_e.bounds = (-1000, 0)\n",
    "    from cobra.flux_analysis import flux_variability_analysis\n",
    "    FVA = flux_variability_analysis(model, model.reactions)\n",
    "    print(FVA.loc[\"PPDK\"])\n",
    "    print(FVA.loc[\"PYK\"])"
   ]
  },
  {
   "cell_type": "markdown",
   "metadata": {},
   "source": [
    "## PPDK/PYK"
   ]
  },
  {
   "cell_type": "markdown",
   "metadata": {},
   "source": [
    "NO3 medium FVA:"
   ]
  },
  {
   "cell_type": "code",
   "execution_count": 97,
   "metadata": {
    "ExecuteTime": {
     "end_time": "2020-04-27T07:31:47.081674Z",
     "start_time": "2020-04-27T07:31:46.261224Z"
    }
   },
   "outputs": [
    {
     "name": "stdout",
     "output_type": "stream",
     "text": [
      "minimum    0.000000\n",
      "maximum    7.434655\n",
      "Name: PPDK, dtype: float64\n",
      "minimum   -8.720936\n",
      "maximum    6.189884\n",
      "Name: PYK, dtype: float64\n"
     ]
    }
   ],
   "source": [
    "with iMsOB3b_original as model:\n",
    "    from cobra.flux_analysis import flux_variability_analysis\n",
    "    FVA = flux_variability_analysis(model, model.reactions)\n",
    "    print(FVA.loc[\"PPDK\"])\n",
    "    print(FVA.loc[\"PYK\"])"
   ]
  },
  {
   "cell_type": "markdown",
   "metadata": {},
   "source": [
    "NH4 medium FVA:"
   ]
  },
  {
   "cell_type": "code",
   "execution_count": 98,
   "metadata": {
    "ExecuteTime": {
     "end_time": "2020-04-27T07:31:49.116237Z",
     "start_time": "2020-04-27T07:31:48.397949Z"
    }
   },
   "outputs": [
    {
     "name": "stdout",
     "output_type": "stream",
     "text": [
      "minimum    0.000000e+00\n",
      "maximum   -3.019732e-12\n",
      "Name: PPDK, dtype: float64\n",
      "minimum   -1.752756\n",
      "maximum   -1.752756\n",
      "Name: PYK, dtype: float64\n"
     ]
    }
   ],
   "source": [
    "with iMsOB3b_original as model:\n",
    "    model.reactions.EX_no3_e.bounds = (0, 0)\n",
    "    model.reactions.EX_nh4_e.bounds = (-1000, 0)\n",
    "    from cobra.flux_analysis import flux_variability_analysis\n",
    "    FVA = flux_variability_analysis(model, model.reactions)\n",
    "    print(FVA.loc[\"PPDK\"])\n",
    "    print(FVA.loc[\"PYK\"])"
   ]
  },
  {
   "cell_type": "markdown",
   "metadata": {},
   "source": [
    "## CCR/P5CR/PROD2"
   ]
  },
  {
   "cell_type": "markdown",
   "metadata": {},
   "source": [
    "NO3 medium FVA:"
   ]
  },
  {
   "cell_type": "code",
   "execution_count": 86,
   "metadata": {
    "ExecuteTime": {
     "end_time": "2020-04-27T07:22:27.394406Z",
     "start_time": "2020-04-27T07:22:26.573431Z"
    }
   },
   "outputs": [
    {
     "name": "stdout",
     "output_type": "stream",
     "text": [
      "minimum   -1000.000000\n",
      "maximum       7.446632\n",
      "Name: CCR, dtype: float64\n",
      "minimum       0.03811\n",
      "maximum    1000.00000\n",
      "Name: P5CR, dtype: float64\n",
      "minimum      0.00000\n",
      "maximum    999.96189\n",
      "Name: PROD2, dtype: float64\n"
     ]
    }
   ],
   "source": [
    "with iMsOB3b_original as model:\n",
    "    from cobra.flux_analysis import flux_variability_analysis\n",
    "    FVA = flux_variability_analysis(model, model.reactions)\n",
    "    print(FVA.loc[\"CCR\"])\n",
    "    print(FVA.loc[\"P5CR\"])\n",
    "    print(FVA.loc[\"PROD2\"])"
   ]
  },
  {
   "cell_type": "markdown",
   "metadata": {},
   "source": [
    "NH4 medium FVA:"
   ]
  },
  {
   "cell_type": "code",
   "execution_count": 85,
   "metadata": {
    "ExecuteTime": {
     "end_time": "2020-04-27T07:22:22.348643Z",
     "start_time": "2020-04-27T07:22:21.622999Z"
    }
   },
   "outputs": [
    {
     "name": "stdout",
     "output_type": "stream",
     "text": [
      "minimum   -999.93175\n",
      "maximum      0.01632\n",
      "Name: CCR, dtype: float64\n",
      "minimum       0.051931\n",
      "maximum    1000.000000\n",
      "Name: P5CR, dtype: float64\n",
      "minimum      0.000000\n",
      "maximum    999.948069\n",
      "Name: PROD2, dtype: float64\n"
     ]
    }
   ],
   "source": [
    "with iMsOB3b_original as model:\n",
    "    model.reactions.EX_no3_e.bounds = (0, 0)\n",
    "    model.reactions.EX_nh4_e.bounds = (-1000, 0)\n",
    "    from cobra.flux_analysis import flux_variability_analysis\n",
    "    FVA = flux_variability_analysis(model, model.reactions)\n",
    "    print(FVA.loc[\"CCR\"])\n",
    "    print(FVA.loc[\"P5CR\"])\n",
    "    print(FVA.loc[\"PROD2\"])"
   ]
  },
  {
   "cell_type": "markdown",
   "metadata": {},
   "source": [
    "Inspect reactions:"
   ]
  },
  {
   "cell_type": "code",
   "execution_count": 83,
   "metadata": {
    "ExecuteTime": {
     "end_time": "2020-04-27T07:21:38.642439Z",
     "start_time": "2020-04-27T07:21:38.637944Z"
    }
   },
   "outputs": [
    {
     "data": {
      "text/html": [
       "\n",
       "        <table>\n",
       "            <tr>\n",
       "                <td><strong>Reaction identifier</strong></td><td>CCR</td>\n",
       "            </tr><tr>\n",
       "                <td><strong>Name</strong></td><td>crotonyl CoA reductase</td>\n",
       "            </tr><tr>\n",
       "                <td><strong>Memory address</strong></td>\n",
       "                <td>0x07f5ba2ca5390</td>\n",
       "            </tr><tr>\n",
       "                <td><strong>Stoichiometry</strong></td>\n",
       "                <td>\n",
       "                    <p style='text-align:right'>b2coa_c + h_c + nadph_c <=> btcoa_c + nadp_c</p>\n",
       "                    <p style='text-align:right'>crotonyl_CoA + H_ + NADPH <=> butyryl_CoA + NADP_</p>\n",
       "                </td>\n",
       "            </tr><tr>\n",
       "                <td><strong>GPR</strong></td><td>CQW49_03790</td>\n",
       "            </tr><tr>\n",
       "                <td><strong>Lower bound</strong></td><td>-1000.0</td>\n",
       "            </tr><tr>\n",
       "                <td><strong>Upper bound</strong></td><td>1000.0</td>\n",
       "            </tr>\n",
       "        </table>\n",
       "        "
      ],
      "text/plain": [
       "<Reaction CCR at 0x7f5ba2ca5390>"
      ]
     },
     "execution_count": 83,
     "metadata": {},
     "output_type": "execute_result"
    }
   ],
   "source": [
    "iMsOB3b_original.reactions.CCR"
   ]
  },
  {
   "cell_type": "code",
   "execution_count": 84,
   "metadata": {
    "ExecuteTime": {
     "end_time": "2020-04-27T07:21:44.597580Z",
     "start_time": "2020-04-27T07:21:44.592885Z"
    }
   },
   "outputs": [
    {
     "data": {
      "text/html": [
       "\n",
       "        <table>\n",
       "            <tr>\n",
       "                <td><strong>Reaction identifier</strong></td><td>P5CR</td>\n",
       "            </tr><tr>\n",
       "                <td><strong>Name</strong></td><td>pyrroline 5 carboxylate reductase</td>\n",
       "            </tr><tr>\n",
       "                <td><strong>Memory address</strong></td>\n",
       "                <td>0x07f5ba2c9ec18</td>\n",
       "            </tr><tr>\n",
       "                <td><strong>Stoichiometry</strong></td>\n",
       "                <td>\n",
       "                    <p style='text-align:right'>1pyr5c_c + 2.0 h_c + nadph_c --> nadp_c + pro_L_c</p>\n",
       "                    <p style='text-align:right'>S__1_pyrroline_5_carboxylate + 2.0 H_ + NADPH --> NADP_ + L_proline</p>\n",
       "                </td>\n",
       "            </tr><tr>\n",
       "                <td><strong>GPR</strong></td><td>CQW49_02875</td>\n",
       "            </tr><tr>\n",
       "                <td><strong>Lower bound</strong></td><td>0.0</td>\n",
       "            </tr><tr>\n",
       "                <td><strong>Upper bound</strong></td><td>1000.0</td>\n",
       "            </tr>\n",
       "        </table>\n",
       "        "
      ],
      "text/plain": [
       "<Reaction P5CR at 0x7f5ba2c9ec18>"
      ]
     },
     "execution_count": 84,
     "metadata": {},
     "output_type": "execute_result"
    }
   ],
   "source": [
    "iMsOB3b_original.reactions.P5CR"
   ]
  },
  {
   "cell_type": "code",
   "execution_count": 87,
   "metadata": {
    "ExecuteTime": {
     "end_time": "2020-04-27T07:22:47.874111Z",
     "start_time": "2020-04-27T07:22:47.868691Z"
    }
   },
   "outputs": [
    {
     "data": {
      "text/html": [
       "\n",
       "        <table>\n",
       "            <tr>\n",
       "                <td><strong>Reaction identifier</strong></td><td>PROD2</td>\n",
       "            </tr><tr>\n",
       "                <td><strong>Name</strong></td><td>proline dehydrogenase</td>\n",
       "            </tr><tr>\n",
       "                <td><strong>Memory address</strong></td>\n",
       "                <td>0x07f5ba0d9ceb8</td>\n",
       "            </tr><tr>\n",
       "                <td><strong>Stoichiometry</strong></td>\n",
       "                <td>\n",
       "                    <p style='text-align:right'>fad_c + pro_L_c --> 1pyr5c_c + fadh2_c + h_c</p>\n",
       "                    <p style='text-align:right'>FAD + L_proline --> S__1_pyrroline_5_carboxylate + FADH2 + H_</p>\n",
       "                </td>\n",
       "            </tr><tr>\n",
       "                <td><strong>GPR</strong></td><td>CQW49_12965</td>\n",
       "            </tr><tr>\n",
       "                <td><strong>Lower bound</strong></td><td>0.0</td>\n",
       "            </tr><tr>\n",
       "                <td><strong>Upper bound</strong></td><td>1000.0</td>\n",
       "            </tr>\n",
       "        </table>\n",
       "        "
      ],
      "text/plain": [
       "<Reaction PROD2 at 0x7f5ba0d9ceb8>"
      ]
     },
     "execution_count": 87,
     "metadata": {},
     "output_type": "execute_result"
    }
   ],
   "source": [
    "iMsOB3b_original.reactions.PROD2"
   ]
  },
  {
   "cell_type": "markdown",
   "metadata": {},
   "source": [
    "Check whether your manipulation strategy makes sense via FVA:"
   ]
  },
  {
   "cell_type": "code",
   "execution_count": 92,
   "metadata": {
    "ExecuteTime": {
     "end_time": "2020-04-27T07:30:55.852896Z",
     "start_time": "2020-04-27T07:30:54.918592Z"
    }
   },
   "outputs": [
    {
     "name": "stdout",
     "output_type": "stream",
     "text": [
      "minimum    0.000000\n",
      "maximum    7.446632\n",
      "Name: CCR, dtype: float64\n",
      "minimum    0.038110\n",
      "maximum    7.484742\n",
      "Name: P5CR, dtype: float64\n",
      "minimum    0.000000\n",
      "maximum    7.446632\n",
      "Name: PROD2, dtype: float64\n",
      "minimum    0.122604\n",
      "maximum    0.122604\n",
      "Name: Biomass_Mextorquens_AM1_core, dtype: float64\n"
     ]
    }
   ],
   "source": [
    "with iMsOB3b_original as model:\n",
    "    model.reactions.CCR.bounds = (0, 1000)\n",
    "    from cobra.flux_analysis import flux_variability_analysis\n",
    "    FVA = flux_variability_analysis(model, model.reactions)\n",
    "    print(FVA.loc[\"CCR\"])\n",
    "    print(FVA.loc[\"P5CR\"])\n",
    "    print(FVA.loc[\"PROD2\"])\n",
    "    print(FVA.loc[\"Biomass_Mextorquens_AM1_core\"])"
   ]
  },
  {
   "cell_type": "markdown",
   "metadata": {},
   "source": [
    "NH4 medium FVA:"
   ]
  },
  {
   "cell_type": "code",
   "execution_count": 95,
   "metadata": {
    "ExecuteTime": {
     "end_time": "2020-04-27T07:31:23.625601Z",
     "start_time": "2020-04-27T07:31:22.860074Z"
    }
   },
   "outputs": [
    {
     "name": "stdout",
     "output_type": "stream",
     "text": [
      "minimum    0.00000\n",
      "maximum    0.01632\n",
      "Name: CCR, dtype: float64\n",
      "minimum    0.051931\n",
      "maximum    0.068250\n",
      "Name: P5CR, dtype: float64\n",
      "minimum    0.00000\n",
      "maximum    0.01632\n",
      "Name: PROD2, dtype: float64\n",
      "minimum    0.167067\n",
      "maximum    0.167067\n",
      "Name: Biomass_Mextorquens_AM1_core, dtype: float64\n"
     ]
    }
   ],
   "source": [
    "with iMsOB3b_original as model:\n",
    "    model.reactions.CCR.bounds = (0, 1000)\n",
    "    model.reactions.EX_no3_e.bounds = (0, 0)\n",
    "    model.reactions.EX_nh4_e.bounds = (-1000, 0)\n",
    "    from cobra.flux_analysis import flux_variability_analysis\n",
    "    FVA = flux_variability_analysis(model, model.reactions)\n",
    "    print(FVA.loc[\"CCR\"])\n",
    "    print(FVA.loc[\"P5CR\"])\n",
    "    print(FVA.loc[\"PROD2\"])\n",
    "    print(FVA.loc[\"Biomass_Mextorquens_AM1_core\"])"
   ]
  },
  {
   "cell_type": "markdown",
   "metadata": {},
   "source": [
    "Manipulate reactions:"
   ]
  },
  {
   "cell_type": "code",
   "execution_count": 96,
   "metadata": {
    "ExecuteTime": {
     "end_time": "2020-04-27T07:31:41.654118Z",
     "start_time": "2020-04-27T07:31:41.646542Z"
    }
   },
   "outputs": [],
   "source": [
    "iMsOB3b_original.reactions.CCR.bounds = (0, 1000)"
   ]
  },
  {
   "cell_type": "markdown",
   "metadata": {
    "ExecuteTime": {
     "end_time": "2020-04-27T06:54:07.340583Z",
     "start_time": "2020-04-27T06:54:07.318732Z"
    }
   },
   "source": [
    "## TMDS3/TMDS/DHFR"
   ]
  },
  {
   "cell_type": "markdown",
   "metadata": {},
   "source": [
    "NO3 medium FVA:"
   ]
  },
  {
   "cell_type": "code",
   "execution_count": 105,
   "metadata": {
    "ExecuteTime": {
     "end_time": "2020-04-27T07:35:59.146859Z",
     "start_time": "2020-04-27T07:35:58.227525Z"
    }
   },
   "outputs": [
    {
     "name": "stdout",
     "output_type": "stream",
     "text": [
      "minimum       0.0\n",
      "maximum    1000.0\n",
      "Name: TMDS3, dtype: float64\n",
      "minimum   -999.998126\n",
      "maximum      0.001874\n",
      "Name: TMDS, dtype: float64\n",
      "minimum   -999.998116\n",
      "maximum      0.001884\n",
      "Name: DHFR, dtype: float64\n"
     ]
    }
   ],
   "source": [
    "with iMsOB3b_original as model:\n",
    "    from cobra.flux_analysis import flux_variability_analysis\n",
    "    FVA = flux_variability_analysis(model, model.reactions)\n",
    "    print(FVA.loc[\"TMDS3\"])\n",
    "    print(FVA.loc[\"TMDS\"])\n",
    "    print(FVA.loc[\"DHFR\"])"
   ]
  },
  {
   "cell_type": "markdown",
   "metadata": {},
   "source": [
    "NH4 medium FVA:"
   ]
  },
  {
   "cell_type": "code",
   "execution_count": 106,
   "metadata": {
    "ExecuteTime": {
     "end_time": "2020-04-27T07:36:00.438728Z",
     "start_time": "2020-04-27T07:35:59.595908Z"
    }
   },
   "outputs": [
    {
     "name": "stdout",
     "output_type": "stream",
     "text": [
      "minimum       0.0\n",
      "maximum    1000.0\n",
      "Name: TMDS3, dtype: float64\n",
      "minimum   -999.997446\n",
      "maximum      0.002554\n",
      "Name: TMDS, dtype: float64\n",
      "minimum   -999.997432\n",
      "maximum      0.002568\n",
      "Name: DHFR, dtype: float64\n"
     ]
    }
   ],
   "source": [
    "with iMsOB3b_original as model:\n",
    "    model.reactions.EX_no3_e.bounds = (0, 0)\n",
    "    model.reactions.EX_nh4_e.bounds = (-1000, 0)\n",
    "    from cobra.flux_analysis import flux_variability_analysis\n",
    "    FVA = flux_variability_analysis(model, model.reactions)\n",
    "    print(FVA.loc[\"TMDS3\"])\n",
    "    print(FVA.loc[\"TMDS\"])\n",
    "    print(FVA.loc[\"DHFR\"])"
   ]
  },
  {
   "cell_type": "markdown",
   "metadata": {},
   "source": [
    "Inspect reactions:"
   ]
  },
  {
   "cell_type": "code",
   "execution_count": 107,
   "metadata": {
    "ExecuteTime": {
     "end_time": "2020-04-27T07:36:14.710943Z",
     "start_time": "2020-04-27T07:36:14.704486Z"
    }
   },
   "outputs": [
    {
     "data": {
      "text/html": [
       "\n",
       "        <table>\n",
       "            <tr>\n",
       "                <td><strong>Reaction identifier</strong></td><td>TMDS3</td>\n",
       "            </tr><tr>\n",
       "                <td><strong>Name</strong></td><td>Thymidylate synthase (FAD dependent)</td>\n",
       "            </tr><tr>\n",
       "                <td><strong>Memory address</strong></td>\n",
       "                <td>0x07f5b8b21c550</td>\n",
       "            </tr><tr>\n",
       "                <td><strong>Stoichiometry</strong></td>\n",
       "                <td>\n",
       "                    <p style='text-align:right'>dump_c + h_c + mlthf_c + nadph_c --> dtmp_c + nadp_c + thf_c</p>\n",
       "                    <p style='text-align:right'>dUMP + H_ + 5_10_methylenetetrahydrofolate + NADPH --> dTMP + NADP_ + tetrahydrofolate</p>\n",
       "                </td>\n",
       "            </tr><tr>\n",
       "                <td><strong>GPR</strong></td><td>CQW49_18435</td>\n",
       "            </tr><tr>\n",
       "                <td><strong>Lower bound</strong></td><td>0.0</td>\n",
       "            </tr><tr>\n",
       "                <td><strong>Upper bound</strong></td><td>1000.0</td>\n",
       "            </tr>\n",
       "        </table>\n",
       "        "
      ],
      "text/plain": [
       "<Reaction TMDS3 at 0x7f5b8b21c550>"
      ]
     },
     "execution_count": 107,
     "metadata": {},
     "output_type": "execute_result"
    }
   ],
   "source": [
    "iMsOB3b_original.reactions.TMDS3"
   ]
  },
  {
   "cell_type": "code",
   "execution_count": 108,
   "metadata": {
    "ExecuteTime": {
     "end_time": "2020-04-27T07:36:14.943651Z",
     "start_time": "2020-04-27T07:36:14.937204Z"
    }
   },
   "outputs": [
    {
     "data": {
      "text/html": [
       "\n",
       "        <table>\n",
       "            <tr>\n",
       "                <td><strong>Reaction identifier</strong></td><td>TMDS</td>\n",
       "            </tr><tr>\n",
       "                <td><strong>Name</strong></td><td>thymidylate synthetase</td>\n",
       "            </tr><tr>\n",
       "                <td><strong>Memory address</strong></td>\n",
       "                <td>0x07f5b8e363780</td>\n",
       "            </tr><tr>\n",
       "                <td><strong>Stoichiometry</strong></td>\n",
       "                <td>\n",
       "                    <p style='text-align:right'>dump_c + mlthf_c <=> dhf_c + dtmp_c</p>\n",
       "                    <p style='text-align:right'>dUMP + 5_10_methylenetetrahydrofolate <=> 7_8_dihydrofolate + dTMP</p>\n",
       "                </td>\n",
       "            </tr><tr>\n",
       "                <td><strong>GPR</strong></td><td>META1_2853</td>\n",
       "            </tr><tr>\n",
       "                <td><strong>Lower bound</strong></td><td>-1000.0</td>\n",
       "            </tr><tr>\n",
       "                <td><strong>Upper bound</strong></td><td>1000.0</td>\n",
       "            </tr>\n",
       "        </table>\n",
       "        "
      ],
      "text/plain": [
       "<Reaction TMDS at 0x7f5b8e363780>"
      ]
     },
     "execution_count": 108,
     "metadata": {},
     "output_type": "execute_result"
    }
   ],
   "source": [
    "iMsOB3b_original.reactions.TMDS"
   ]
  },
  {
   "cell_type": "code",
   "execution_count": 109,
   "metadata": {
    "ExecuteTime": {
     "end_time": "2020-04-27T07:36:15.178300Z",
     "start_time": "2020-04-27T07:36:15.172142Z"
    }
   },
   "outputs": [
    {
     "data": {
      "text/html": [
       "\n",
       "        <table>\n",
       "            <tr>\n",
       "                <td><strong>Reaction identifier</strong></td><td>DHFR</td>\n",
       "            </tr><tr>\n",
       "                <td><strong>Name</strong></td><td>dihydrofolate reductase</td>\n",
       "            </tr><tr>\n",
       "                <td><strong>Memory address</strong></td>\n",
       "                <td>0x07f5b8e3520b8</td>\n",
       "            </tr><tr>\n",
       "                <td><strong>Stoichiometry</strong></td>\n",
       "                <td>\n",
       "                    <p style='text-align:right'>dhf_c + h_c + nadph_c <=> nadp_c + thf_c</p>\n",
       "                    <p style='text-align:right'>7_8_dihydrofolate + H_ + NADPH <=> NADP_ + tetrahydrofolate</p>\n",
       "                </td>\n",
       "            </tr><tr>\n",
       "                <td><strong>GPR</strong></td><td>CQW49_20290</td>\n",
       "            </tr><tr>\n",
       "                <td><strong>Lower bound</strong></td><td>-1000.0</td>\n",
       "            </tr><tr>\n",
       "                <td><strong>Upper bound</strong></td><td>1000.0</td>\n",
       "            </tr>\n",
       "        </table>\n",
       "        "
      ],
      "text/plain": [
       "<Reaction DHFR at 0x7f5b8e3520b8>"
      ]
     },
     "execution_count": 109,
     "metadata": {},
     "output_type": "execute_result"
    }
   ],
   "source": [
    "iMsOB3b_original.reactions.DHFR"
   ]
  },
  {
   "cell_type": "markdown",
   "metadata": {},
   "source": [
    "Check whether your manipulation strategy makes sense via FVA:"
   ]
  },
  {
   "cell_type": "code",
   "execution_count": 110,
   "metadata": {
    "ExecuteTime": {
     "end_time": "2020-04-27T07:37:49.040871Z",
     "start_time": "2020-04-27T07:37:47.975975Z"
    }
   },
   "outputs": [
    {
     "name": "stdout",
     "output_type": "stream",
     "text": [
      "minimum    0.001874\n",
      "maximum    0.001874\n",
      "Name: TMDS3, dtype: float64\n",
      "minimum    0.0\n",
      "maximum    0.0\n",
      "Name: TMDS, dtype: float64\n",
      "minimum    0.00001\n",
      "maximum    0.00001\n",
      "Name: DHFR, dtype: float64\n",
      "minimum    0.122604\n",
      "maximum    0.122604\n",
      "Name: Biomass_Mextorquens_AM1_core, dtype: float64\n"
     ]
    }
   ],
   "source": [
    "with iMsOB3b_original as model:\n",
    "    model.reactions.TMDS.bounds = (0, 0)\n",
    "    from cobra.flux_analysis import flux_variability_analysis\n",
    "    FVA = flux_variability_analysis(model, model.reactions)\n",
    "    print(FVA.loc[\"TMDS3\"])\n",
    "    print(FVA.loc[\"TMDS\"])\n",
    "    print(FVA.loc[\"DHFR\"])\n",
    "    print(FVA.loc[\"Biomass_Mextorquens_AM1_core\"])"
   ]
  },
  {
   "cell_type": "markdown",
   "metadata": {},
   "source": [
    "NH4 medium FVA:"
   ]
  },
  {
   "cell_type": "code",
   "execution_count": 112,
   "metadata": {
    "ExecuteTime": {
     "end_time": "2020-04-27T07:38:25.189665Z",
     "start_time": "2020-04-27T07:38:24.460819Z"
    }
   },
   "outputs": [
    {
     "name": "stdout",
     "output_type": "stream",
     "text": [
      "minimum    0.002554\n",
      "maximum    0.002554\n",
      "Name: TMDS3, dtype: float64\n",
      "minimum    0.0\n",
      "maximum    0.0\n",
      "Name: TMDS, dtype: float64\n",
      "minimum    0.000014\n",
      "maximum    0.000014\n",
      "Name: DHFR, dtype: float64\n",
      "minimum    0.167067\n",
      "maximum    0.167067\n",
      "Name: Biomass_Mextorquens_AM1_core, dtype: float64\n"
     ]
    }
   ],
   "source": [
    "with iMsOB3b_original as model:\n",
    "    model.reactions.TMDS.bounds = (0, 0)\n",
    "    model.reactions.EX_no3_e.bounds = (0, 0)\n",
    "    model.reactions.EX_nh4_e.bounds = (-1000, 0)\n",
    "    from cobra.flux_analysis import flux_variability_analysis\n",
    "    FVA = flux_variability_analysis(model, model.reactions)\n",
    "    print(FVA.loc[\"TMDS3\"])\n",
    "    print(FVA.loc[\"TMDS\"])\n",
    "    print(FVA.loc[\"DHFR\"])\n",
    "    print(FVA.loc[\"Biomass_Mextorquens_AM1_core\"])"
   ]
  },
  {
   "cell_type": "markdown",
   "metadata": {},
   "source": [
    "Manipulate reactions:"
   ]
  },
  {
   "cell_type": "code",
   "execution_count": 113,
   "metadata": {
    "ExecuteTime": {
     "end_time": "2020-04-27T07:38:59.724552Z",
     "start_time": "2020-04-27T07:38:59.720782Z"
    }
   },
   "outputs": [],
   "source": [
    "iMsOB3b_original.reactions.TMDS.bounds = (0, 0)"
   ]
  },
  {
   "cell_type": "markdown",
   "metadata": {},
   "source": [
    "## 3HBCDH/AACOAR/3HBCD/ECOAH1/ACOAD1f/HACYLCOAEPI40/ADK1"
   ]
  },
  {
   "cell_type": "markdown",
   "metadata": {},
   "source": [
    "NO3 medium FVA:"
   ]
  },
  {
   "cell_type": "code",
   "execution_count": 158,
   "metadata": {
    "ExecuteTime": {
     "end_time": "2020-04-28T06:50:44.670894Z",
     "start_time": "2020-04-28T06:50:43.570572Z"
    }
   },
   "outputs": [
    {
     "name": "stdout",
     "output_type": "stream",
     "text": [
      "minimum     0.000000\n",
      "maximum    17.888222\n",
      "Name: 3HBCDH, dtype: float64\n",
      "minimum     0.000000\n",
      "maximum    12.255094\n",
      "Name: AACOAR, dtype: float64\n",
      "minimum   -11.083964\n",
      "maximum     1.589984\n",
      "Name: 3HBCD, dtype: float64\n",
      "minimum     0.000000\n",
      "maximum    12.255094\n",
      "Name: ECOAH1, dtype: float64\n",
      "minimum   -7.436254\n",
      "maximum    0.010378\n",
      "Name: ACOAD1f, dtype: float64\n",
      "minimum     0.000000\n",
      "maximum    12.255094\n",
      "Name: HACYLCOAEPI40, dtype: float64\n",
      "minimum    0.893319\n",
      "maximum    8.329573\n",
      "Name: ADK1, dtype: float64\n"
     ]
    }
   ],
   "source": [
    "with iMsOB3b_original as model:\n",
    "    #model.reactions.ECOAH1.bounds = (0, 1000)\n",
    "    #model.reactions.get_by_id(\"HACYLCOAEPI40\").bounds = (0, 1000)\n",
    "    from cobra.flux_analysis import flux_variability_analysis\n",
    "    FVA = flux_variability_analysis(model, model.reactions)\n",
    "    print(FVA.loc[\"3HBCDH\"])\n",
    "    print(FVA.loc[\"AACOAR\"])\n",
    "    print(FVA.loc[\"3HBCD\"])\n",
    "    print(FVA.loc[\"ECOAH1\"])\n",
    "    print(FVA.loc[\"ACOAD1f\"])\n",
    "    print(FVA.loc[\"HACYLCOAEPI40\"])\n",
    "    print(FVA.loc[\"ADK1\"])"
   ]
  },
  {
   "cell_type": "markdown",
   "metadata": {},
   "source": [
    "NH4 medium FVA:"
   ]
  },
  {
   "cell_type": "code",
   "execution_count": 156,
   "metadata": {
    "ExecuteTime": {
     "end_time": "2020-04-28T06:50:16.876866Z",
     "start_time": "2020-04-28T06:50:16.029266Z"
    }
   },
   "outputs": [
    {
     "name": "stdout",
     "output_type": "stream",
     "text": [
      "minimum       0.0\n",
      "maximum    1000.0\n",
      "Name: 3HBCDH, dtype: float64\n",
      "minimum       0.0\n",
      "maximum    1000.0\n",
      "Name: AACOAR, dtype: float64\n",
      "minimum    -998.404154\n",
      "maximum    1000.000000\n",
      "Name: 3HBCD, dtype: float64\n",
      "minimum    -998.404154\n",
      "maximum    1000.000000\n",
      "Name: ECOAH1, dtype: float64\n",
      "minimum   -0.002179\n",
      "maximum    0.014141\n",
      "Name: ACOAD1f, dtype: float64\n",
      "minimum   -1000.0\n",
      "maximum    1000.0\n",
      "Name: HACYLCOAEPI40, dtype: float64\n",
      "minimum    1.219464\n",
      "maximum    1.219464\n",
      "Name: ADK1, dtype: float64\n"
     ]
    }
   ],
   "source": [
    "with iMsOB3b_original as model:\n",
    "    #model.reactions.ECOAH1.bounds = (0, 1000)\n",
    "    #model.reactions.get_by_id(\"HACYLCOAEPI40\").bounds = (-1000, 0)\n",
    "    model.reactions.EX_no3_e.bounds = (0, 0)\n",
    "    model.reactions.EX_nh4_e.bounds = (-1000, 0)\n",
    "    from cobra.flux_analysis import flux_variability_analysis\n",
    "    FVA = flux_variability_analysis(model, model.reactions)\n",
    "    print(FVA.loc[\"3HBCDH\"])\n",
    "    print(FVA.loc[\"AACOAR\"])\n",
    "    print(FVA.loc[\"3HBCD\"])\n",
    "    print(FVA.loc[\"ECOAH1\"])\n",
    "    print(FVA.loc[\"ACOAD1f\"])\n",
    "    print(FVA.loc[\"HACYLCOAEPI40\"])\n",
    "    print(FVA.loc[\"ADK1\"])"
   ]
  },
  {
   "cell_type": "markdown",
   "metadata": {},
   "source": [
    "Inspect reactions:"
   ]
  },
  {
   "cell_type": "code",
   "execution_count": 147,
   "metadata": {
    "ExecuteTime": {
     "end_time": "2020-04-28T06:48:59.522847Z",
     "start_time": "2020-04-28T06:48:59.517106Z"
    }
   },
   "outputs": [
    {
     "data": {
      "text/html": [
       "\n",
       "        <table>\n",
       "            <tr>\n",
       "                <td><strong>Reaction identifier</strong></td><td>3HBCDH</td>\n",
       "            </tr><tr>\n",
       "                <td><strong>Name</strong></td><td>3 hydroxybutyryl CoA dehydrogenase</td>\n",
       "            </tr><tr>\n",
       "                <td><strong>Memory address</strong></td>\n",
       "                <td>0x07f5ba2c86198</td>\n",
       "            </tr><tr>\n",
       "                <td><strong>Stoichiometry</strong></td>\n",
       "                <td>\n",
       "                    <p style='text-align:right'>3hbcoa_c + nadp_c --> aacoa_c + h_c + nadph_c</p>\n",
       "                    <p style='text-align:right'>S__3_hydroxybutanoyl_CoA + NADP_ --> acetoacetyl_CoA + H_ + NADPH</p>\n",
       "                </td>\n",
       "            </tr><tr>\n",
       "                <td><strong>GPR</strong></td><td>CQW49_20240</td>\n",
       "            </tr><tr>\n",
       "                <td><strong>Lower bound</strong></td><td>0.0</td>\n",
       "            </tr><tr>\n",
       "                <td><strong>Upper bound</strong></td><td>1000.0</td>\n",
       "            </tr>\n",
       "        </table>\n",
       "        "
      ],
      "text/plain": [
       "<Reaction 3HBCDH at 0x7f5ba2c86198>"
      ]
     },
     "execution_count": 147,
     "metadata": {},
     "output_type": "execute_result"
    }
   ],
   "source": [
    "iMsOB3b_original.reactions.get_by_id(\"3HBCDH\")"
   ]
  },
  {
   "cell_type": "code",
   "execution_count": 148,
   "metadata": {
    "ExecuteTime": {
     "end_time": "2020-04-28T06:49:00.263290Z",
     "start_time": "2020-04-28T06:49:00.257426Z"
    }
   },
   "outputs": [
    {
     "data": {
      "text/html": [
       "\n",
       "        <table>\n",
       "            <tr>\n",
       "                <td><strong>Reaction identifier</strong></td><td>AACOAR</td>\n",
       "            </tr><tr>\n",
       "                <td><strong>Name</strong></td><td>acetoacetyl CoA reductase 1</td>\n",
       "            </tr><tr>\n",
       "                <td><strong>Memory address</strong></td>\n",
       "                <td>0x07f5b8e675cf8</td>\n",
       "            </tr><tr>\n",
       "                <td><strong>Stoichiometry</strong></td>\n",
       "                <td>\n",
       "                    <p style='text-align:right'>aacoa_c + h_c + nadph_c --> nadp_c + r3hbcoa_c</p>\n",
       "                    <p style='text-align:right'>acetoacetyl_CoA + H_ + NADPH --> NADP_ + R__3_hydroxybutanoyl_CoA</p>\n",
       "                </td>\n",
       "            </tr><tr>\n",
       "                <td><strong>GPR</strong></td><td>CQW49_17745</td>\n",
       "            </tr><tr>\n",
       "                <td><strong>Lower bound</strong></td><td>0.0</td>\n",
       "            </tr><tr>\n",
       "                <td><strong>Upper bound</strong></td><td>1000.0</td>\n",
       "            </tr>\n",
       "        </table>\n",
       "        "
      ],
      "text/plain": [
       "<Reaction AACOAR at 0x7f5b8e675cf8>"
      ]
     },
     "execution_count": 148,
     "metadata": {},
     "output_type": "execute_result"
    }
   ],
   "source": [
    "iMsOB3b_original.reactions.get_by_id(\"AACOAR\")"
   ]
  },
  {
   "cell_type": "code",
   "execution_count": 149,
   "metadata": {
    "ExecuteTime": {
     "end_time": "2020-04-28T06:49:00.893073Z",
     "start_time": "2020-04-28T06:49:00.887837Z"
    }
   },
   "outputs": [
    {
     "data": {
      "text/html": [
       "\n",
       "        <table>\n",
       "            <tr>\n",
       "                <td><strong>Reaction identifier</strong></td><td>3HBCD</td>\n",
       "            </tr><tr>\n",
       "                <td><strong>Name</strong></td><td> R  3 hydroxybutyryl CoA dehydratase</td>\n",
       "            </tr><tr>\n",
       "                <td><strong>Memory address</strong></td>\n",
       "                <td>0x07f5b89ab7b00</td>\n",
       "            </tr><tr>\n",
       "                <td><strong>Stoichiometry</strong></td>\n",
       "                <td>\n",
       "                    <p style='text-align:right'>r3hbcoa_c <=> b2coa_c + h2o_c</p>\n",
       "                    <p style='text-align:right'>R__3_hydroxybutanoyl_CoA <=> crotonyl_CoA + H2O</p>\n",
       "                </td>\n",
       "            </tr><tr>\n",
       "                <td><strong>GPR</strong></td><td>CQW49_12855</td>\n",
       "            </tr><tr>\n",
       "                <td><strong>Lower bound</strong></td><td>-1000.0</td>\n",
       "            </tr><tr>\n",
       "                <td><strong>Upper bound</strong></td><td>1000.0</td>\n",
       "            </tr>\n",
       "        </table>\n",
       "        "
      ],
      "text/plain": [
       "<Reaction 3HBCD at 0x7f5b89ab7b00>"
      ]
     },
     "execution_count": 149,
     "metadata": {},
     "output_type": "execute_result"
    }
   ],
   "source": [
    "iMsOB3b_original.reactions.get_by_id(\"3HBCD\")"
   ]
  },
  {
   "cell_type": "code",
   "execution_count": 150,
   "metadata": {
    "ExecuteTime": {
     "end_time": "2020-04-28T06:49:01.701691Z",
     "start_time": "2020-04-28T06:49:01.696008Z"
    }
   },
   "outputs": [
    {
     "data": {
      "text/html": [
       "\n",
       "        <table>\n",
       "            <tr>\n",
       "                <td><strong>Reaction identifier</strong></td><td>ECOAH1</td>\n",
       "            </tr><tr>\n",
       "                <td><strong>Name</strong></td><td>3 hydroxybutyryl CoA dehydratase</td>\n",
       "            </tr><tr>\n",
       "                <td><strong>Memory address</strong></td>\n",
       "                <td>0x07f5b8a8a1e10</td>\n",
       "            </tr><tr>\n",
       "                <td><strong>Stoichiometry</strong></td>\n",
       "                <td>\n",
       "                    <p style='text-align:right'>3hbcoa_c <=> b2coa_c + h2o_c</p>\n",
       "                    <p style='text-align:right'>S__3_hydroxybutanoyl_CoA <=> crotonyl_CoA + H2O</p>\n",
       "                </td>\n",
       "            </tr><tr>\n",
       "                <td><strong>GPR</strong></td><td>(CQW49_15495 and CQW49_15500) or CQW49_11715</td>\n",
       "            </tr><tr>\n",
       "                <td><strong>Lower bound</strong></td><td>-1000.0</td>\n",
       "            </tr><tr>\n",
       "                <td><strong>Upper bound</strong></td><td>1000.0</td>\n",
       "            </tr>\n",
       "        </table>\n",
       "        "
      ],
      "text/plain": [
       "<Reaction ECOAH1 at 0x7f5b8a8a1e10>"
      ]
     },
     "execution_count": 150,
     "metadata": {},
     "output_type": "execute_result"
    }
   ],
   "source": [
    "iMsOB3b_original.reactions.get_by_id(\"ECOAH1\")"
   ]
  },
  {
   "cell_type": "code",
   "execution_count": 164,
   "metadata": {
    "ExecuteTime": {
     "end_time": "2020-04-28T06:54:15.866014Z",
     "start_time": "2020-04-28T06:54:15.857790Z"
    }
   },
   "outputs": [
    {
     "data": {
      "text/html": [
       "\n",
       "        <table>\n",
       "            <tr>\n",
       "                <td><strong>Reaction identifier</strong></td><td>ACOAD1f</td>\n",
       "            </tr><tr>\n",
       "                <td><strong>Name</strong></td><td>acyl CoA dehydrogenase  n 4 0 </td>\n",
       "            </tr><tr>\n",
       "                <td><strong>Memory address</strong></td>\n",
       "                <td>0x07f5b8aa16ba8</td>\n",
       "            </tr><tr>\n",
       "                <td><strong>Stoichiometry</strong></td>\n",
       "                <td>\n",
       "                    <p style='text-align:right'>btcoa_c + fad_c <=> b2coa_c + fadh2_c</p>\n",
       "                    <p style='text-align:right'>butyryl_CoA + FAD <=> crotonyl_CoA + FADH2</p>\n",
       "                </td>\n",
       "            </tr><tr>\n",
       "                <td><strong>GPR</strong></td><td>CQW49_15490 or CQW49_03065 or CQW49_11850</td>\n",
       "            </tr><tr>\n",
       "                <td><strong>Lower bound</strong></td><td>-1000.0</td>\n",
       "            </tr><tr>\n",
       "                <td><strong>Upper bound</strong></td><td>1000.0</td>\n",
       "            </tr>\n",
       "        </table>\n",
       "        "
      ],
      "text/plain": [
       "<Reaction ACOAD1f at 0x7f5b8aa16ba8>"
      ]
     },
     "execution_count": 164,
     "metadata": {},
     "output_type": "execute_result"
    }
   ],
   "source": [
    "iMsOB3b_original.reactions.get_by_id(\"ACOAD1f\")"
   ]
  },
  {
   "cell_type": "code",
   "execution_count": 165,
   "metadata": {
    "ExecuteTime": {
     "end_time": "2020-04-28T06:54:18.811783Z",
     "start_time": "2020-04-28T06:54:18.805525Z"
    }
   },
   "outputs": [
    {
     "data": {
      "text/html": [
       "\n",
       "        <table>\n",
       "            <tr>\n",
       "                <td><strong>Reaction identifier</strong></td><td>HACYLCOAEPI40</td>\n",
       "            </tr><tr>\n",
       "                <td><strong>Name</strong></td><td>3 hydroxyacyl CoA epimerase  n 4 0 </td>\n",
       "            </tr><tr>\n",
       "                <td><strong>Memory address</strong></td>\n",
       "                <td>0x07f5b8a9d4828</td>\n",
       "            </tr><tr>\n",
       "                <td><strong>Stoichiometry</strong></td>\n",
       "                <td>\n",
       "                    <p style='text-align:right'>3hbcoa_c <-- r3hbcoa_c</p>\n",
       "                    <p style='text-align:right'>S__3_hydroxybutanoyl_CoA <-- R__3_hydroxybutanoyl_CoA</p>\n",
       "                </td>\n",
       "            </tr><tr>\n",
       "                <td><strong>GPR</strong></td><td>CQW49_15495 and CQW49_15500</td>\n",
       "            </tr><tr>\n",
       "                <td><strong>Lower bound</strong></td><td>-1000</td>\n",
       "            </tr><tr>\n",
       "                <td><strong>Upper bound</strong></td><td>0</td>\n",
       "            </tr>\n",
       "        </table>\n",
       "        "
      ],
      "text/plain": [
       "<Reaction HACYLCOAEPI40 at 0x7f5b8a9d4828>"
      ]
     },
     "execution_count": 165,
     "metadata": {},
     "output_type": "execute_result"
    }
   ],
   "source": [
    "iMsOB3b_original.reactions.get_by_id(\"HACYLCOAEPI40\")"
   ]
  },
  {
   "cell_type": "code",
   "execution_count": 166,
   "metadata": {
    "ExecuteTime": {
     "end_time": "2020-04-28T06:54:21.730832Z",
     "start_time": "2020-04-28T06:54:21.722284Z"
    }
   },
   "outputs": [
    {
     "data": {
      "text/html": [
       "\n",
       "        <table>\n",
       "            <tr>\n",
       "                <td><strong>Reaction identifier</strong></td><td>ADK1</td>\n",
       "            </tr><tr>\n",
       "                <td><strong>Name</strong></td><td>adenylate kinase</td>\n",
       "            </tr><tr>\n",
       "                <td><strong>Memory address</strong></td>\n",
       "                <td>0x07f5ba0dfa1d0</td>\n",
       "            </tr><tr>\n",
       "                <td><strong>Stoichiometry</strong></td>\n",
       "                <td>\n",
       "                    <p style='text-align:right'>amp_c + atp_c --> 2.0 adp_c</p>\n",
       "                    <p style='text-align:right'>AMP + ATP --> 2.0 ADP</p>\n",
       "                </td>\n",
       "            </tr><tr>\n",
       "                <td><strong>GPR</strong></td><td>CQW49_10390</td>\n",
       "            </tr><tr>\n",
       "                <td><strong>Lower bound</strong></td><td>0</td>\n",
       "            </tr><tr>\n",
       "                <td><strong>Upper bound</strong></td><td>1000</td>\n",
       "            </tr>\n",
       "        </table>\n",
       "        "
      ],
      "text/plain": [
       "<Reaction ADK1 at 0x7f5ba0dfa1d0>"
      ]
     },
     "execution_count": 166,
     "metadata": {},
     "output_type": "execute_result"
    }
   ],
   "source": [
    "iMsOB3b_original.reactions.get_by_id(\"ADK1\")"
   ]
  },
  {
   "cell_type": "markdown",
   "metadata": {},
   "source": [
    "Check whether your manipulation strategy makes sense via FVA:\n",
    "<br>NO3 medium:"
   ]
  },
  {
   "cell_type": "code",
   "execution_count": 167,
   "metadata": {
    "ExecuteTime": {
     "end_time": "2020-04-28T06:54:24.787002Z",
     "start_time": "2020-04-28T06:54:23.835708Z"
    }
   },
   "outputs": [
    {
     "name": "stdout",
     "output_type": "stream",
     "text": [
      "minimum     0.000000\n",
      "maximum    17.888222\n",
      "Name: 3HBCDH, dtype: float64\n",
      "minimum     0.000000\n",
      "maximum    12.255094\n",
      "Name: AACOAR, dtype: float64\n",
      "minimum   -11.083964\n",
      "maximum     1.589984\n",
      "Name: 3HBCD, dtype: float64\n",
      "minimum     0.000000\n",
      "maximum    12.255094\n",
      "Name: ECOAH1, dtype: float64\n",
      "minimum   -7.436254\n",
      "maximum    0.010378\n",
      "Name: ACOAD1f, dtype: float64\n",
      "minimum     0.000000\n",
      "maximum    12.255094\n",
      "Name: HACYLCOAEPI40, dtype: float64\n",
      "minimum    0.893319\n",
      "maximum    8.329573\n",
      "Name: ADK1, dtype: float64\n"
     ]
    }
   ],
   "source": [
    "with iMsOB3b_original as model:\n",
    "    model.reactions.ECOAH1.bounds = (0, 1000)\n",
    "    model.reactions.get_by_id(\"HACYLCOAEPI40\").bounds = (0, 1000)\n",
    "    from cobra.flux_analysis import flux_variability_analysis\n",
    "    FVA = flux_variability_analysis(model, model.reactions)\n",
    "    print(FVA.loc[\"3HBCDH\"])\n",
    "    print(FVA.loc[\"AACOAR\"])\n",
    "    print(FVA.loc[\"3HBCD\"])\n",
    "    print(FVA.loc[\"ECOAH1\"])\n",
    "    print(FVA.loc[\"ACOAD1f\"])\n",
    "    print(FVA.loc[\"HACYLCOAEPI40\"])\n",
    "    print(FVA.loc[\"ADK1\"])"
   ]
  },
  {
   "cell_type": "markdown",
   "metadata": {},
   "source": [
    "NH4 medium FVA:"
   ]
  },
  {
   "cell_type": "code",
   "execution_count": 51,
   "metadata": {
    "ExecuteTime": {
     "end_time": "2020-05-04T05:09:54.356707Z",
     "start_time": "2020-05-04T05:09:53.580105Z"
    }
   },
   "outputs": [
    {
     "name": "stdout",
     "output_type": "stream",
     "text": [
      "minimum     0.000000\n",
      "maximum    10.867644\n",
      "Name: 3HBCDH, dtype: float64\n",
      "minimum    0.000000\n",
      "maximum    3.191637\n",
      "Name: AACOAR, dtype: float64\n",
      "minimum   -1.595791\n",
      "maximum    1.595846\n",
      "Name: 3HBCD, dtype: float64\n",
      "minimum    0.000000\n",
      "maximum    3.191637\n",
      "Name: ECOAH1, dtype: float64\n",
      "minimum   -0.002179\n",
      "maximum    0.014141\n",
      "Name: ACOAD1f, dtype: float64\n",
      "minimum    0.000000\n",
      "maximum    3.191637\n",
      "Name: HACYLCOAEPI40, dtype: float64\n",
      "minimum    1.219464\n",
      "maximum    1.219464\n",
      "Name: ADK1, dtype: float64\n"
     ]
    }
   ],
   "source": [
    "with iMsOB3b_original as model:\n",
    "    model.reactions.ECOAH1.bounds = (0, 1000)\n",
    "    model.reactions.get_by_id(\"HACYLCOAEPI40\").bounds = (0, 1000)\n",
    "    model.reactions.EX_no3_e.bounds = (0, 0)\n",
    "    model.reactions.EX_nh4_e.bounds = (-1000, 0)\n",
    "    from cobra.flux_analysis import flux_variability_analysis\n",
    "    FVA = flux_variability_analysis(model, model.reactions)\n",
    "    print(FVA.loc[\"3HBCDH\"])\n",
    "    print(FVA.loc[\"AACOAR\"])\n",
    "    print(FVA.loc[\"3HBCD\"])\n",
    "    print(FVA.loc[\"ECOAH1\"])\n",
    "    print(FVA.loc[\"ACOAD1f\"])\n",
    "    print(FVA.loc[\"HACYLCOAEPI40\"])\n",
    "    print(FVA.loc[\"ADK1\"])"
   ]
  },
  {
   "cell_type": "markdown",
   "metadata": {
    "ExecuteTime": {
     "end_time": "2020-04-28T06:52:05.376591Z",
     "start_time": "2020-04-28T06:52:05.371557Z"
    }
   },
   "source": [
    "Manipulate reactions:"
   ]
  },
  {
   "cell_type": "code",
   "execution_count": 169,
   "metadata": {
    "ExecuteTime": {
     "end_time": "2020-04-28T06:54:31.758143Z",
     "start_time": "2020-04-28T06:54:31.748180Z"
    }
   },
   "outputs": [],
   "source": [
    "iMsOB3b_original.reactions.ECOAH1.bounds = (0, 1000)\n",
    "iMsOB3b_original.reactions.get_by_id(\"HACYLCOAEPI40\").bounds = (0, 1000)"
   ]
  },
  {
   "cell_type": "markdown",
   "metadata": {
    "ExecuteTime": {
     "end_time": "2020-04-28T06:52:41.778247Z",
     "start_time": "2020-04-28T06:52:41.775479Z"
    }
   },
   "source": [
    "Save the adjusted model:"
   ]
  },
  {
   "cell_type": "code",
   "execution_count": 171,
   "metadata": {
    "ExecuteTime": {
     "end_time": "2020-04-28T06:54:42.346729Z",
     "start_time": "2020-04-28T06:54:42.110941Z"
    }
   },
   "outputs": [],
   "source": [
    "iMsOB3b_original = cobra.io.save_json_model(iMsOB3b_original, models_directory + \"iMsOB3b.json\")"
   ]
  }
 ],
 "metadata": {
  "kernelspec": {
   "display_name": "Python [conda env:GEM_py36]",
   "language": "python",
   "name": "conda-env-GEM_py36-py"
  },
  "language_info": {
   "codemirror_mode": {
    "name": "ipython",
    "version": 3
   },
   "file_extension": ".py",
   "mimetype": "text/x-python",
   "name": "python",
   "nbconvert_exporter": "python",
   "pygments_lexer": "ipython3",
   "version": "3.6.9"
  },
  "toc": {
   "base_numbering": 1,
   "nav_menu": {},
   "number_sections": true,
   "sideBar": true,
   "skip_h1_title": false,
   "title_cell": "Table of Contents",
   "title_sidebar": "Contents",
   "toc_cell": false,
   "toc_position": {
    "height": "calc(100% - 180px)",
    "left": "10px",
    "top": "150px",
    "width": "384px"
   },
   "toc_section_display": true,
   "toc_window_display": true
  },
  "varInspector": {
   "cols": {
    "lenName": 16,
    "lenType": 16,
    "lenVar": 40
   },
   "kernels_config": {
    "python": {
     "delete_cmd_postfix": "",
     "delete_cmd_prefix": "del ",
     "library": "var_list.py",
     "varRefreshCmd": "print(var_dic_list())"
    },
    "r": {
     "delete_cmd_postfix": ") ",
     "delete_cmd_prefix": "rm(",
     "library": "var_list.r",
     "varRefreshCmd": "cat(var_dic_list()) "
    }
   },
   "types_to_exclude": [
    "module",
    "function",
    "builtin_function_or_method",
    "instance",
    "_Feature"
   ],
   "window_display": true
  }
 },
 "nbformat": 4,
 "nbformat_minor": 2
}
